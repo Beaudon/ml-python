{
 "cells": [
  {
   "cell_type": "markdown",
   "metadata": {},
   "source": [
    "# Training Models\n",
    "This notebook is dedicated to chapter 4 of the book.\n",
    "\n",
    "Exploring how models can be trained\n",
    "\n",
    "## Linear Regression Model\n",
    "### Definition\n",
    "We can define the linear model as follows:\n",
    "$$\n",
    "\\hat{y}=\\theta_{0} + \\theta_{1}x_{1}+\\theta_{2}x_{2}+\\dots+\\theta_{n}x_{n}\n",
    "$$\n",
    "Where:\n",
    "* $\\hat{y}$ is the predicted value\n",
    "* $n$ is the number of features\n",
    "* $x_{i}$ is the $x^{ith}$ feature value (i.e., the instance attribute values)\n",
    "* $\\theta_{j}$ is the $j^{th}$ model parameter including the bias term $\\theta_0$ and the feature weights $\\theta_1,\\theta_2,\\dots,\\theta_n$\n",
    "\n",
    "And in vectorized form:\n",
    "$$\n",
    "\\hat{y}=h_{\\theta}(X)=\\theta^T \\cdot X\n",
    "$$\n",
    "Where:\n",
    "* $\\hat{y}$ is again the predicted value\n",
    "* $\\theta$ is the model's *parameter vector*, containing the bias term $\\theta_0$, and the feature weights $\\theta_1$ to $\\theta_n$\n",
    "* $\\theta^T$ is the transpose of $\\theta$, a row vector instead of a column vector.\n",
    "* $X$ is the instance's *feature vector*, containing $x_0$ to $x_n$ **with $x_0$ always equal to $1$.**\n",
    "* $\\theta^TX$ is the dot product of $\\theta^T$ and $X$\n",
    "* $h_{\\theta}$ is the hypothesis function, using the model parameters $\\theta$\n",
    "\n",
    "### Metrics\n",
    "A linear model consists on fitting the equation of a line (the model) on a series of data points that resembles a line. We are going to play with the model parameters, i.e., $\\theta_{n}$ till we find a line that best fits the data. For doing this, we need a measure that tell us this. In this case, we can think of this measurement as the distance between each data point and the line we are fitting, the less the difference the better. This metric is called *Mean Squared Error* or *MSE*:\n",
    "\n",
    "$$\n",
    "MSE(X,h_{\\theta})=\\frac{1}{m}\\sum_{i=1}^{m} (\\theta^{T} \\cdot x^{(i)} - y^{(i)})^2\n",
    "$$\n",
    "\n",
    "This is basically, adding all the differences between the point in the line (predicted value) and the actual value then square it (to deal with negative values) and finaly averaging it depending on the number of samples.\n",
    "\n",
    "This is then a Minimization problem as we want to find the values for $\\theta_{n}$ such that minimizes the value of $MSE(\\theta)$\n",
    "\n",
    "### The normal equation\n",
    "So the definition of this problem as a formula would be:\n",
    "$$\n",
    "\\hat{\\theta}=(X^T \\cdot X)^{-1} \\cdot X^T \\cdot y\n",
    "$$\n",
    "Where:\n",
    "* $\\hat{\\theta}$ is the value of $\\theta$ that minimizes the cost function.\n",
    "* $y$ is the vector of target values containing $y^{(1)}$ to $y^{(m)}$\n",
    "\n",
    "### Visualization"
   ]
  },
  {
   "cell_type": "code",
   "execution_count": 20,
   "metadata": {},
   "outputs": [],
   "source": [
    "import numpy as np\n",
    "\n",
    "np.random.seed(12345)\n",
    "# Generate 100 points, rand receives the dimensions of the returning vector,\n",
    "# in this case, 100 rows and 1 column\n",
    "X = 2 * np.random.rand(100, 1)\n",
    "# This is basically applying the model 'y = 3x + 4' however, we are adding noise with a random normal distribution to simulate some dispersion in the data points\n",
    "y = 4 + 3 * X + np.random.randn(100, 1)"
   ]
  },
  {
   "cell_type": "code",
   "execution_count": 21,
   "metadata": {},
   "outputs": [
    {
     "data": {
      "image/png": "[encoded data removed]",
      "text/plain": [
       "<matplotlib.figure.Figure at 0x11e62a1d0>"
      ]
     },
     "metadata": {},
     "output_type": "display_data"
    }
   ],
   "source": [
    "%matplotlib inline\n",
    "import matplotlib.pyplot as plt\n",
    "\n",
    "plt.figure(figsize=(8, 6))\n",
    "plt.scatter(X, y)\n",
    "plt.show()"
   ]
  },
  {
   "cell_type": "markdown",
   "metadata": {},
   "source": [
    "Now, let's compute $\\hat{\\theta}$ using the normal function and with help of numpy's linear algebra packages to calculate the inverse of a matrix (-1 exponent) and the dot product."
   ]
  },
  {
   "cell_type": "code",
   "execution_count": 27,
   "metadata": {},
   "outputs": [
    {
     "data": {
      "text/plain": [
       "array([[3.9801249 ],\n",
       "       [3.05940348]])"
      ]
     },
     "execution_count": 27,
     "metadata": {},
     "output_type": "execute_result"
    }
   ],
   "source": [
    "X_b = np.c_[np.ones((100, 1)), X] # add x0 = 1 to each instance\n",
    "theta_best = np.linalg.inv(X_b.T.dot(X_b)).dot(X_b.T.dot(y))\n",
    "theta_best"
   ]
  },
  {
   "cell_type": "markdown",
   "metadata": {},
   "source": [
    "Notice the actual values of the function we used to generate the data (+ Gaussian Noise) and look at what we obtained here, they resemble pretty well the original values, considering the noise off course.\n",
    "\n",
    "Now, let's make predictions using these thetas as model parameters and plot the line and appreciate it graphically"
   ]
  },
  {
   "cell_type": "code",
   "execution_count": 28,
   "metadata": {},
   "outputs": [
    {
     "data": {
      "text/plain": [
       "array([[ 3.9801249 ],\n",
       "       [10.09893186]])"
      ]
     },
     "execution_count": 28,
     "metadata": {},
     "output_type": "execute_result"
    }
   ],
   "source": [
    "X_new = np.array([[0], [2]])\n",
    "X_new_b = np.c_[np.ones((2, 1)), X_new] # add x0 =1 to each instance\n",
    "y_predict = X_new_b.dot(theta_best)\n",
    "y_predict"
   ]
  },
  {
   "cell_type": "code",
   "execution_count": 39,
   "metadata": {},
   "outputs": [
    {
     "data": {
      "image/png": "[encoded data removed]",
      "text/plain": [
       "<matplotlib.figure.Figure at 0x1202d7f60>"
      ]
     },
     "metadata": {},
     "output_type": "display_data"
    }
   ],
   "source": [
    "plt.figure(figsize=(8, 6))\n",
    "plt.plot(X_new, y_predict, 'r-')\n",
    "plt.scatter(X, y)\n",
    "plt.axis([0, 2, 0, 15]) # X axis from 0 to 2, Y axis from 0 to 15\n",
    "plt.legend([\"Predictions\"])\n",
    "plt.show()"
   ]
  },
  {
   "cell_type": "markdown",
   "metadata": {},
   "source": [
    "Equivalent code using scikit learn"
   ]
  },
  {
   "cell_type": "code",
   "execution_count": 40,
   "metadata": {},
   "outputs": [
    {
     "data": {
      "text/plain": [
       "(array([3.9801249]), array([[3.05940348]]))"
      ]
     },
     "execution_count": 40,
     "metadata": {},
     "output_type": "execute_result"
    }
   ],
   "source": [
    "from sklearn.linear_model import LinearRegression\n",
    "\n",
    "lin_reg = LinearRegression()\n",
    "lin_reg.fit(X, y)\n",
    "lin_reg.intercept_, lin_reg.coef_"
   ]
  },
  {
   "cell_type": "code",
   "execution_count": null,
   "metadata": {},
   "outputs": [],
   "source": []
  }
 ],
 "metadata": {
  "kernelspec": {
   "display_name": "Python 3",
   "language": "python",
   "name": "python3"
  },
  "language_info": {
   "codemirror_mode": {
    "name": "ipython",
    "version": 3
   },
   "file_extension": ".py",
   "mimetype": "text/x-python",
   "name": "python",
   "nbconvert_exporter": "python",
   "pygments_lexer": "ipython3",
   "version": "3.6.8"
  }
 },
 "nbformat": 4,
 "nbformat_minor": 2
}
