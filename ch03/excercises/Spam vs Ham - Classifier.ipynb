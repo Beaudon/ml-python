{
 "cells": [
  {
   "cell_type": "markdown",
   "metadata": {},
   "source": [
    "# Spam Vs Ham Classifier\n",
    "\n",
    "This notebook corresponds to excercise #4 of the book, we will use the Apache Spam assasing corpus https://spamassassin.apache.org/old/publiccorpus/.\n",
    "\n",
    "I'm going to work with:\n",
    "* 20021010_spam.tar.bz2 (Contains emails flagged as spam)\n",
    "* 20021010_easy_ham.tar.bz2 (Contains easily recognizable ham emails)\n",
    "* 20021010_hard_ham.tar.bz2 (Contains ham emails but can be mistaken with spam)\n",
    "\n",
    "## Data exploration\n",
    "Let's see the content of these folders.\n"
   ]
  },
  {
   "cell_type": "code",
   "execution_count": 17,
   "metadata": {},
   "outputs": [],
   "source": [
    "import os\n",
    "import tarfile\n",
    "from six.moves import urllib\n",
    "\n",
    "DOWNLOAD_URL = \"http://spamassassin.apache.org/old/publiccorpus/\"\n",
    "HAM_URL = DOWNLOAD_URL + \"20021010_easy_ham.tar.bz2\"\n",
    "SPAM_URL = DOWNLOAD_URL + \"20021010_spam.tar.bz2\"\n",
    "DATASETS_PATH = os.path.join('./', 'spamham')\n",
    "\n",
    "def fetch_data(files, datasets_path=DATASETS_PATH):\n",
    "    if not files:\n",
    "        raise ValueError(\"You must provide the files to download\")\n",
    "    \n",
    "    if type(files) != tuple:\n",
    "        if type(files) == list and type(files[0]) != tuple:\n",
    "            raise ValueError(\"The files must be a tuple or list of tuples e.g.: ('filename', 'url') or [('filename', 'url')]\")\n",
    "                \n",
    "    if not os.path.isdir(datasets_path):\n",
    "        os.makedirs(datasets_path)\n",
    "        \n",
    "    for filename, url in files:\n",
    "        path = os.path.join(datasets_path, filename)\n",
    "        if not os.path.isfile(path):\n",
    "            urllib.request.urlretrieve(url, path)\n",
    "        tar_bz2_file = tarfile.open(path)\n",
    "        tar_bz2_file.extractall(path=DATASETS_PATH)\n",
    "        tar_bz2_file.close()"
   ]
  },
  {
   "cell_type": "code",
   "execution_count": 18,
   "metadata": {},
   "outputs": [],
   "source": [
    "files = [\n",
    "    ('ham.tar.bz2', HAM_URL),\n",
    "    ('spam.tar.bz2', SPAM_URL)\n",
    "]\n",
    "\n",
    "fetch_data(files)"
   ]
  },
  {
   "cell_type": "code",
   "execution_count": 16,
   "metadata": {},
   "outputs": [
    {
     "data": {
      "text/plain": [
       "False"
      ]
     },
     "execution_count": 16,
     "metadata": {},
     "output_type": "execute_result"
    }
   ],
   "source": [
    "type(files) == list and type(files[0]) != tuple"
   ]
  },
  {
   "cell_type": "code",
   "execution_count": null,
   "metadata": {},
   "outputs": [],
   "source": []
  }
 ],
 "metadata": {
  "kernelspec": {
   "display_name": "Python 3",
   "language": "python",
   "name": "python3"
  },
  "language_info": {
   "codemirror_mode": {
    "name": "ipython",
    "version": 3
   },
   "file_extension": ".py",
   "mimetype": "text/x-python",
   "name": "python",
   "nbconvert_exporter": "python",
   "pygments_lexer": "ipython3",
   "version": "3.6.7"
  }
 },
 "nbformat": 4,
 "nbformat_minor": 2
}
