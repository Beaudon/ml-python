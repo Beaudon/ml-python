{
 "cells": [
  {
   "cell_type": "markdown",
   "metadata": {},
   "source": [
    "# Spam Vs Ham Classifier\n",
    "\n",
    "This notebook corresponds to excercise #4 of the book, we will use the Apache Spam assasing corpus https://spamassassin.apache.org/old/publiccorpus/.\n",
    "\n",
    "I'm going to work with:\n",
    "* 20021010_spam.tar.bz2 (Contains emails flagged as spam)\n",
    "* 20021010_easy_ham.tar.bz2 (Contains easily recognizable ham emails)\n",
    "* 20021010_hard_ham.tar.bz2 (Contains ham emails but can be mistaken with spam)\n",
    "\n",
    "## Data exploration\n",
    "Let's see the content of these folders.\n"
   ]
  },
  {
   "cell_type": "code",
   "execution_count": 83,
   "metadata": {},
   "outputs": [],
   "source": [
    "import os\n",
    "import tarfile\n",
    "from six.moves import urllib\n",
    "\n",
    "DOWNLOAD_URL = \"http://spamassassin.apache.org/old/publiccorpus/\"\n",
    "#HAM_URL = DOWNLOAD_URL + \"20021010_easy_ham.tar.bz2\"\n",
    "#SPAM_URL = DOWNLOAD_URL + \"20021010_spam.tar.bz2\"\n",
    "HAM_URL = DOWNLOAD_URL + \"20030228_easy_ham.tar.bz2\"\n",
    "SPAM_URL = DOWNLOAD_URL + \"20030228_spam_2.tar.bz2\"\n",
    "\n",
    "DATASETS_PATH = os.path.join('./', 'spamham')\n",
    "\n",
    "def fetch_data(files, datasets_path=DATASETS_PATH):\n",
    "    if not files:\n",
    "        raise ValueError(\"You must provide the files to download\")\n",
    "    \n",
    "    if type(files) != tuple:\n",
    "        if type(files) == list and type(files[0]) != tuple:\n",
    "            raise ValueError(\"The files must be a tuple or list of tuples e.g.: ('filename', 'url') or [('filename', 'url')]\")\n",
    "                \n",
    "    if not os.path.isdir(datasets_path):\n",
    "        os.makedirs(datasets_path)\n",
    "        \n",
    "    for filename, url in files:\n",
    "        path = os.path.join(datasets_path, filename)\n",
    "        if not os.path.isfile(path):\n",
    "            urllib.request.urlretrieve(url, path)\n",
    "        tar_bz2_file = tarfile.open(path)\n",
    "        tar_bz2_file.extractall(path=DATASETS_PATH)\n",
    "        tar_bz2_file.close()"
   ]
  },
  {
   "cell_type": "code",
   "execution_count": 84,
   "metadata": {},
   "outputs": [],
   "source": [
    "files = [\n",
    "    ('ham.tar.bz2', HAM_URL),\n",
    "    ('spam.tar.bz2', SPAM_URL)\n",
    "]\n",
    "\n",
    "fetch_data(files)"
   ]
  },
  {
   "cell_type": "code",
   "execution_count": 86,
   "metadata": {},
   "outputs": [],
   "source": [
    "HAM_DIR = os.path.join(DATASETS_PATH, 'easy_ham')\n",
    "SPAM_DIR = os.path.join(DATASETS_PATH, 'spam_2')\n",
    "\n",
    "ham_filenames = [name for name in sorted(os.listdir(HAM_DIR)) if len(name) > 20]\n",
    "spam_filenames = [name for name in sorted(os.listdir(SPAM_DIR)) if len(name) > 20]"
   ]
  },
  {
   "cell_type": "code",
   "execution_count": 87,
   "metadata": {},
   "outputs": [
    {
     "name": "stdout",
     "output_type": "stream",
     "text": [
      "Ham samples:  2500\n",
      "Spam samples:  1397\n"
     ]
    }
   ],
   "source": [
    "print(\"Ham samples: \", len(ham_filenames))\n",
    "print(\"Spam samples: \", len(spam_filenames))"
   ]
  },
  {
   "cell_type": "code",
   "execution_count": 90,
   "metadata": {},
   "outputs": [],
   "source": [
    "import email\n",
    "import email.policy\n",
    "\n",
    "def load_email(is_spam, filename, path=DATASETS_PATH):\n",
    "    directory = 'spam_2' if is_spam else 'easy_ham'\n",
    "    with open(os.path.join(DATASETS_PATH, directory, filename), 'rb') as f:\n",
    "        return email.parser.BytesParser(policy=email.policy.default).parse(f)"
   ]
  },
  {
   "cell_type": "code",
   "execution_count": 91,
   "metadata": {},
   "outputs": [],
   "source": [
    "ham_emails = [load_email(False, name) for name in ham_filenames]\n",
    "spam_emails = [load_email(True, name) for name in spam_filenames]"
   ]
  },
  {
   "cell_type": "markdown",
   "metadata": {},
   "source": [
    "### This is a ham email"
   ]
  },
  {
   "cell_type": "code",
   "execution_count": 92,
   "metadata": {},
   "outputs": [
    {
     "name": "stdout",
     "output_type": "stream",
     "text": [
      "Date:        Wed, 21 Aug 2002 10:54:46 -0500\n",
      "    From:        Chris Garrigues <cwg-dated-1030377287.06fa6d@DeepEddy.Com>\n",
      "    Message-ID:  <1029945287.4797.TMDA@deepeddy.vircio.com>\n",
      "\n",
      "\n",
      "  | I can't reproduce this error.\n",
      "\n",
      "For me it is very repeatable... (like every time, without fail).\n",
      "\n",
      "This is the debug log of the pick happening ...\n",
      "\n",
      "18:19:03 Pick_It {exec pick +inbox -list -lbrace -lbrace -subject ftp -rbrace -rbrace} {4852-4852 -sequence mercury}\n",
      "18:19:03 exec pick +inbox -list -lbrace -lbrace -subject ftp -rbrace -rbrace 4852-4852 -sequence mercury\n",
      "18:19:04 Ftoc_PickMsgs {{1 hit}}\n",
      "18:19:04 Marking 1 hits\n",
      "18:19:04 tkerror: syntax error in expression \"int ...\n",
      "\n",
      "Note, if I run the pick command by hand ...\n",
      "\n",
      "delta$ pick +inbox -list -lbrace -lbrace -subject ftp -rbrace -rbrace  4852-4852 -sequence mercury\n",
      "1 hit\n",
      "\n",
      "That's where the \"1 hit\" comes from (obviously).  The version of nmh I'm\n",
      "using is ...\n",
      "\n",
      "delta$ pick -version\n",
      "pick -- nmh-1.0.4 [compiled on fuchsia.cs.mu.OZ.AU at Sun Mar 17 14:55:56 ICT 2002]\n",
      "\n",
      "And the relevant part of my .mh_profile ...\n",
      "\n",
      "delta$ mhparam pick\n",
      "-seq sel -list\n",
      "\n",
      "\n",
      "Since the pick command works, the sequence (actually, both of them, the\n",
      "one that's explicit on the command line, from the search popup, and the\n",
      "one that comes from .mh_profile) do get created.\n",
      "\n",
      "kre\n",
      "\n",
      "ps: this is still using the version of the code form a day ago, I haven't\n",
      "been able to reach the cvs repository today (local routing issue I think).\n",
      "\n",
      "\n",
      "\n",
      "_______________________________________________\n",
      "Exmh-workers mailing list\n",
      "Exmh-workers@redhat.com\n",
      "https://listman.redhat.com/mailman/listinfo/exmh-workers\n"
     ]
    }
   ],
   "source": [
    "print(ham_emails[0].get_content().strip())"
   ]
  },
  {
   "cell_type": "markdown",
   "metadata": {},
   "source": [
    "### Now this is a spam"
   ]
  },
  {
   "cell_type": "code",
   "execution_count": 93,
   "metadata": {},
   "outputs": [
    {
     "name": "stdout",
     "output_type": "stream",
     "text": [
      "NEW PRODUCT ANNOUNCEMENT\n",
      "\n",
      "From: OUTSOURCE ENG.& MFG. INC.\n",
      "\n",
      "\n",
      "Sir/Madam;\n",
      "\n",
      "This note is to inform you of new watchdog board technology for maintaining\n",
      "continuous unattended operation of PC/Servers etc. that we have released for\n",
      "distribution.\n",
      "  \n",
      "We are proud to announce Watchdog Control Center featuring MAM (Multiple\n",
      "Applications Monitor) capability.\n",
      "The key feature of this application enables you to monitor as many\n",
      "applications as you\n",
      "have resident on any computer as well as the operating system for\n",
      "continuous unattended operation.  The Watchdog Control Center featuring\n",
      "MAM capability expands third party application \"control\" of a Watchdog as\n",
      "access to the application's\n",
      "source code is no longer needed.\n",
      "\n",
      "Here is how it all works:\n",
      "Upon installation of the application and Watchdog, the user may select\n",
      "many configuration options, based on their model of Watchdog, to fit their\n",
      "operational needs.  If the MAM feature is enabled, the user may select any\n",
      "executable program that they wish for monitoring.\n",
      "\n",
      "A lock up of the operating system or if any one of the selected\n",
      "applications is not running, the MAM feature, in\n",
      "conjunction with the Watchdog, will reset the system allowing for\n",
      "continuous operation.\n",
      "\n",
      "It's that simple!\n",
      "\n",
      "Watchdog Control Center is supported on most Microsoft Windows platforms\n",
      "(Win9x/WinNT/Win2k) and includes a Linux version for PCI Programmable\n",
      "Watchdogs.\n",
      "\n",
      "Watchdog Control Center Features:\n",
      "- Automated installation\n",
      "- Controls all Outsource Engineering Watchdogs\n",
      "- User selectable Watchdog timeout period\n",
      "- User selectable Watchdog stroke interval\n",
      "- Multiple Application Monitoring\n",
      "\n",
      "Included on the Installation CD:\n",
      "- Watchdog Control Center\n",
      "- Watchdog Drivers\n",
      "- Documentation\n",
      "\n",
      "For more information, please visit out website at\n",
      "http://www.outsrc-em.com/ or send an e-mail to sales@outsrc-em.com\n"
     ]
    }
   ],
   "source": [
    "print(spam_emails[6].get_content().strip())"
   ]
  },
  {
   "cell_type": "markdown",
   "metadata": {},
   "source": [
    "### Email structures\n",
    "Emails can have different structures, some might contain attachments, and attached emails that might also contain attachments. Let's decompose the email structures."
   ]
  },
  {
   "cell_type": "code",
   "execution_count": 94,
   "metadata": {},
   "outputs": [],
   "source": [
    "def get_email_structure(email):\n",
    "    if isinstance(email, str):\n",
    "        return email\n",
    "    payload = email.get_payload()\n",
    "    if isinstance(payload, list):\n",
    "        return \"multipart({})\".format(\", \".join([\n",
    "            get_email_structure(sub_email) for sub_email in payload\n",
    "        ]))\n",
    "    else:\n",
    "        return email.get_content_type()"
   ]
  },
  {
   "cell_type": "code",
   "execution_count": 95,
   "metadata": {},
   "outputs": [],
   "source": [
    "from collections import Counter\n",
    "\n",
    "def structures_counter(emails):\n",
    "    structures = Counter()\n",
    "    for email in emails:\n",
    "        structure = get_email_structure(email)\n",
    "        structures[structure] += 1\n",
    "    return structures"
   ]
  },
  {
   "cell_type": "code",
   "execution_count": 96,
   "metadata": {},
   "outputs": [
    {
     "data": {
      "text/plain": [
       "[('text/plain', 2408),\n",
       " ('multipart(text/plain, application/pgp-signature)', 66),\n",
       " ('multipart(text/plain, text/html)', 8),\n",
       " ('multipart(text/plain, text/plain)', 4),\n",
       " ('multipart(text/plain)', 3),\n",
       " ('multipart(text/plain, application/octet-stream)', 2),\n",
       " ('multipart(text/plain, text/enriched)', 1),\n",
       " ('multipart(text/plain, application/ms-tnef, text/plain)', 1),\n",
       " ('multipart(multipart(text/plain, text/plain, text/plain), application/pgp-signature)',\n",
       "  1),\n",
       " ('multipart(text/plain, video/mng)', 1),\n",
       " ('multipart(text/plain, multipart(text/plain))', 1),\n",
       " ('multipart(text/plain, application/x-pkcs7-signature)', 1),\n",
       " ('multipart(text/plain, multipart(text/plain, text/plain), text/rfc822-headers)',\n",
       "  1),\n",
       " ('multipart(text/plain, multipart(text/plain, text/plain), multipart(multipart(text/plain, application/x-pkcs7-signature)))',\n",
       "  1),\n",
       " ('multipart(text/plain, application/x-java-applet)', 1)]"
      ]
     },
     "execution_count": 96,
     "metadata": {},
     "output_type": "execute_result"
    }
   ],
   "source": [
    "ham_structure_count = structures_counter(ham_emails).most_common()\n",
    "ham_structure_count"
   ]
  },
  {
   "cell_type": "code",
   "execution_count": 97,
   "metadata": {},
   "outputs": [
    {
     "data": {
      "text/plain": [
       "[('text/plain', 598),\n",
       " ('text/html', 589),\n",
       " ('multipart(text/plain, text/html)', 114),\n",
       " ('multipart(text/html)', 29),\n",
       " ('multipart(text/plain)', 25),\n",
       " ('multipart(multipart(text/html))', 18),\n",
       " ('multipart(multipart(text/plain, text/html))', 5),\n",
       " ('multipart(text/plain, application/octet-stream, text/plain)', 3),\n",
       " ('multipart(text/html, text/plain)', 2),\n",
       " ('multipart(text/html, image/jpeg)', 2),\n",
       " ('multipart(multipart(text/plain), application/octet-stream)', 2),\n",
       " ('multipart(text/plain, application/octet-stream)', 2),\n",
       " ('multipart(text/plain, multipart(text/plain))', 1),\n",
       " ('multipart(multipart(text/plain, text/html), image/jpeg, image/jpeg, image/jpeg, image/jpeg, image/jpeg)',\n",
       "  1),\n",
       " ('multipart(multipart(text/plain, text/html), image/jpeg, image/jpeg, image/jpeg, image/jpeg, image/gif)',\n",
       "  1),\n",
       " ('text/plain charset=us-ascii', 1),\n",
       " ('multipart(multipart(text/html), image/gif)', 1),\n",
       " ('multipart(multipart(text/plain, text/html), application/octet-stream, application/octet-stream, application/octet-stream, application/octet-stream)',\n",
       "  1),\n",
       " ('multipart(multipart(text/plain, text/html), image/gif, image/jpeg)', 1),\n",
       " ('multipart/alternative', 1)]"
      ]
     },
     "execution_count": 97,
     "metadata": {},
     "output_type": "execute_result"
    }
   ],
   "source": [
    "spam_structure_count = structures_counter(spam_emails).most_common()\n",
    "spam_structure_count"
   ]
  },
  {
   "cell_type": "markdown",
   "metadata": {},
   "source": [
    "It seems the proportion of text/plan vs text/html is significantly different. Spam emails tend to be more on the text/html side. Also, ham emails tend to use pgp-signature while none of the spam emails uses one. This might be a useful attribute."
   ]
  },
  {
   "cell_type": "code",
   "execution_count": 98,
   "metadata": {},
   "outputs": [],
   "source": [
    "import numpy as np\n",
    "\n",
    "ham_structures = np.array([[pair[0], pair[1]] for pair in ham_structure_count])\n",
    "spam_structures = np.array([[pair[0], pair[1]] for pair in spam_structure_count])"
   ]
  },
  {
   "cell_type": "code",
   "execution_count": 99,
   "metadata": {},
   "outputs": [
    {
     "data": {
      "image/png": "[encoded data removed]",
      "text/plain": [
       "<matplotlib.figure.Figure at 0x1a208dbb38>"
      ]
     },
     "metadata": {},
     "output_type": "display_data"
    }
   ],
   "source": [
    "%matplotlib inline\n",
    "import matplotlib.pyplot as plt\n",
    "\n",
    "# Omit the first class as the proportion won't allow to see the rest\n",
    "ham_struct_types = ham_structures[1:,0]\n",
    "ham_struct_counts = ham_structures[1:,1].astype(np.int)\n",
    "\n",
    "classes = [\"A\", \"B\", \"C\", \"D\", \"E\", \"F\", \"G\", \"H\", \"I\", \"J\", \"L\", \"M\", \"N\", \"O\"]\n",
    "prop_iter = iter(plt.cm.tab20.colors)\n",
    "\n",
    "plt.figure(figsize=(15, 8))\n",
    "legends = []\n",
    "for t, c, l in zip(classes, ham_struct_counts, ham_struct_types):\n",
    "    bar = plt.bar(t, c, color=next(prop_iter), label=l)\n",
    "    legends.append(bar)\n",
    "plt.legend(handles=legends)\n",
    "plt.show()"
   ]
  },
  {
   "cell_type": "markdown",
   "metadata": {},
   "source": [
    "In the above plot, I have omitted the text/plain class as the amount surpasses significantly the others and mekes them hard to see. From this chart, we can observe that among ham, the most frequent class other than plain/text is the one that uses pgp-signature.\n",
    "\n",
    "Now, let's observe what happens with the spam."
   ]
  },
  {
   "cell_type": "code",
   "execution_count": 100,
   "metadata": {},
   "outputs": [
    {
     "data": {
      "image/png": "[encoded data removed]",
      "text/plain": [
       "<matplotlib.figure.Figure at 0x1a21c9cb00>"
      ]
     },
     "metadata": {},
     "output_type": "display_data"
    }
   ],
   "source": [
    "spam_struct_types = spam_structures[0:,0]\n",
    "spam_struct_counts = spam_structures[0:,1].astype(np.int)\n",
    "\n",
    "classes = [\"A\", \"B\", \"C\", \"D\", \"E\", \"F\", \"G\", \"H\", \"I\", \"J\", \"L\", \"M\", \"N\"]\n",
    "prop_iter = iter(plt.cm.tab20.colors)\n",
    "\n",
    "plt.figure(figsize=(15, 8))\n",
    "legends = []\n",
    "for t, c, l in zip(classes, spam_struct_counts, spam_struct_types):\n",
    "    bar = plt.bar(t, c, color=next(prop_iter), label=l)\n",
    "    legends.append(bar)\n",
    "plt.legend(handles=legends)\n",
    "plt.show()"
   ]
  },
  {
   "cell_type": "markdown",
   "metadata": {},
   "source": [
    "On Spam, we observe that there is no signature type emails, the highest ones are text/plain and text/html.\n",
    "\n",
    "### Email headers"
   ]
  },
  {
   "cell_type": "code",
   "execution_count": 101,
   "metadata": {},
   "outputs": [
    {
     "name": "stdout",
     "output_type": "stream",
     "text": [
      "Return-Path : merchantsworld2001@juno.com\n",
      "Delivery-Date : Mon May 13 04:46:13 2002\n",
      "Received : from mandark.labs.netnoteinc.com ([213.105.180.140]) by    dogma.slashnull.org (8.11.6/8.11.6) with ESMTP id g4D3kCe15097 for    <jm@jmason.org>; Mon, 13 May 2002 04:46:12 +0100\n",
      "Received : from 203.129.205.5.205.129.203.in-addr.arpa ([203.129.205.5]) by    mandark.labs.netnoteinc.com (8.11.2/8.11.2) with SMTP id g4D3k2D12605 for    <jm@netnoteinc.com>; Mon, 13 May 2002 04:46:04 +0100\n",
      "Received : from html (unverified [207.95.174.49]) by    203.129.205.5.205.129.203.in-addr.arpa (EMWAC SMTPRS 0.83) with SMTP id    <B0000178595@203.129.205.5.205.129.203.in-addr.arpa>; Mon, 13 May 2002    09:04:46 +0530\n",
      "Message-Id : <B0000178595@203.129.205.5.205.129.203.in-addr.arpa>\n",
      "From : lmrn@mailexcite.com\n",
      "To : ranmoore@cybertime.net\n",
      "Subject : Real Protection, Stun Guns!  Free Shipping! Time:2:01:35 PM\n",
      "Date : Mon, 28 Jul 1980 14:01:35 -0000\n",
      "MIME-Version : 1.0\n",
      "X-Keywords : \n",
      "Content-Type : text/html; charset=\"DEFAULT\"\n"
     ]
    }
   ],
   "source": [
    "for header, value in spam_emails[1].items():\n",
    "    print(header, \":\", value)"
   ]
  },
  {
   "cell_type": "markdown",
   "metadata": {},
   "source": [
    "Probably, there is useful information here, like the sender, this kind of email, 'Life Insurance - Why Pay More?' looks suspicuous."
   ]
  },
  {
   "cell_type": "code",
   "execution_count": 102,
   "metadata": {},
   "outputs": [
    {
     "data": {
      "text/plain": [
       "'Real Protection, Stun Guns!  Free Shipping! Time:2:01:35 PM'"
      ]
     },
     "execution_count": 102,
     "metadata": {},
     "output_type": "execute_result"
    }
   ],
   "source": [
    "spam_emails[1][\"Subject\"]"
   ]
  },
  {
   "cell_type": "markdown",
   "metadata": {},
   "source": [
    "### Train/Test Split"
   ]
  },
  {
   "cell_type": "code",
   "execution_count": 103,
   "metadata": {},
   "outputs": [],
   "source": [
    "import numpy as np\n",
    "from sklearn.model_selection import train_test_split\n",
    "\n",
    "X = np.array(ham_emails + spam_emails)\n",
    "y = np.array([0] * len(ham_emails) + [1] * len(spam_emails))\n",
    "\n",
    "X_train, X_test, y_train, y_test = train_test_split(X, y, test_size=0.2, random_state=42)"
   ]
  },
  {
   "cell_type": "markdown",
   "metadata": {},
   "source": [
    "### Preprocessing\n",
    "We would want to convert HTML emails into plain/text. The original author's solutions creates regex based parsers but suggest BeautifulSoup as an alternative. I'm going to use this library for the sake of learning!\n",
    "\n",
    "Ref\n",
    "* https://www.crummy.com/software/BeautifulSoup/bs4/doc/"
   ]
  },
  {
   "cell_type": "code",
   "execution_count": 104,
   "metadata": {},
   "outputs": [],
   "source": [
    "#From X_train get all where the indexes has a y_train==1\n",
    "html_spam_emails = [email for email in X_train[y_train==1] if get_email_structure(email) == \"text/html\"]\n",
    "html_sample = html_spam_emails[0].get_content().strip()"
   ]
  },
  {
   "cell_type": "markdown",
   "metadata": {},
   "source": [
    "This is a spam sample in HTML form"
   ]
  },
  {
   "cell_type": "code",
   "execution_count": 105,
   "metadata": {},
   "outputs": [
    {
     "name": "stdout",
     "output_type": "stream",
     "text": [
      "<HTML>\n",
      "<HEAD>\n",
      "<TITLE>Full Access Medical</TITLE>\n",
      "<META HTTP-EQUIV=\"Content-Type\" CONTENT=\"text/html; charset=iso-8859-1\">\n",
      "</HEAD>\n",
      "<BODY BGCOLOR=#FFFFFF>\n",
      "<div align=\"center\"><a href=\"http://65.162.84.5/perl/050902_02.pl\"><img src=\"http://65.162.84.5/images/fam_email19.jpg\" width=\"380\" height=\"380\" border=\"0\"></a></div>\n",
      "<TABLE WIDTH=380 BORDER=0 CELLPADDING=0 CELLSPACING=0 align=\"center\">\n",
      "  <tr> \n",
      "      <TD COLSPAN=3> \n",
      "        <hr>\n",
      "        <font face=\"Verdana, Arial, Helvetica, sans-serif\" size=1><br>\n",
      "          To sign up for the Full Access Medical, LLC Plan the applicant must \n",
      "          be at least 18 and pay a one-time enrollment fee of  regardless of \n",
      "          the number of dependents enrolled. This non-insurance healthcare plan \n",
      "          is not available in Washington.</font>\n",
      "    </td>\n",
      "  </tr>\n",
      "</TABLE>\n",
      "\n",
      "<p><font size=-1 color=black>This email is not sent unsolicited. You are receiving it because you requested receive this email by opting-in with our marketing partner. You will rece ...\n"
     ]
    }
   ],
   "source": [
    "print(html_sample[:1000], '...')"
   ]
  },
  {
   "cell_type": "markdown",
   "metadata": {},
   "source": [
    "Let's take a look at one of the HTML emails using the IPython display"
   ]
  },
  {
   "cell_type": "code",
   "execution_count": 106,
   "metadata": {},
   "outputs": [
    {
     "data": {
      "text/html": [
       "<HTML>\n",
       "<HEAD>\n",
       "<TITLE>Full Access Medical</TITLE>\n",
       "<META HTTP-EQUIV=\"Content-Type\" CONTENT=\"text/html; charset=iso-8859-1\">\n",
       "</HEAD>\n",
       "<BODY BGCOLOR=#FFFFFF>\n",
       "<div align=\"center\"><a href=\"http://65.162.84.5/perl/050902_02.pl\"><img src=\"http://65.162.84.5/images/fam_email19.jpg\" width=\"380\" height=\"380\" border=\"0\"></a></div>\n",
       "<TABLE WIDTH=380 BORDER=0 CELLPADDING=0 CELLSPACING=0 align=\"center\">\n",
       "  <tr> \n",
       "      <TD COLSPAN=3> \n",
       "        <hr>\n",
       "        <font face=\"Verdana, Arial, Helvetica, sans-serif\" size=1><br>\n",
       "          To sign up for the Full Access Medical, LLC Plan the applicant must \n",
       "          be at least 18 and pay a one-time enrollment fee of  regardless of \n",
       "          the number of dependents enrolled. This non-insurance healthcare plan \n",
       "          is not available in Washington.</font>\n",
       "    </td>\n",
       "  </tr>\n",
       "</TABLE>\n",
       "\n",
       "<p><font size=-1 color=black>This email is not sent unsolicited. You are receiving it because you requested receive this email by opting-in with our marketing partner. You will receive notices of exciting offers, products, and other options! However, we are committed to only sending to those people that desire these offers. If you do not wish to receive such offers \n",
       "<a href=\"http://65.162.84.5/perl/unsubscribe.pl?s=20020510190852000001230835\"><b><font size=\"-1\" color = blue>Click Here.</font></b></a> or paste the following into any browser:</p> http://65.162.84.5/perl/unsubscribe.pl?s=20020510190852000001230835 <br><br><p> to remove your email name from our list. You may contact our company by mail at 1323 S.E. 17th Street, Suite Number 345, Ft. Lauderdale, Fl 33316</p> \n",
       "<img src=\"http://65.162.84.5/perl/r_open1.pl?serialno=20020510190852000001230835\">\n",
       "\n",
       "</body>\n",
       "</html>"
      ],
      "text/plain": [
       "<IPython.core.display.HTML object>"
      ]
     },
     "execution_count": 106,
     "metadata": {},
     "output_type": "execute_result"
    }
   ],
   "source": [
    "import IPython\n",
    "IPython.display.HTML(html_sample)"
   ]
  },
  {
   "cell_type": "markdown",
   "metadata": {},
   "source": [
    "Now, the goal is strip down all the HTML tags and just stay with the text. The rules:\n",
    "\n",
    "* All head tags must me removed\n",
    "* All links, i.e., ```<a>``` tags, must be repladed with the word 'HYPERLINK'\n",
    "* All HTML tags must be stripped, i.e., Remove all the ```<whathever/>```\n",
    "* Remove all the HTML escape characters such as ```&gt;```, ```&nbsp;```\n",
    "\n",
    "Fortunately, it seems that Beautiful Soup makes very easy to navigate all the HTML tree effortlessly, so this is just a matter of picking the information as needed."
   ]
  },
  {
   "cell_type": "code",
   "execution_count": 107,
   "metadata": {},
   "outputs": [],
   "source": [
    "from bs4 import BeautifulSoup\n",
    "import re\n",
    "\n",
    "def html_to_plain_text(email):\n",
    "    soup = BeautifulSoup(email, 'html.parser')\n",
    "    for link in soup.findAll('a'):\n",
    "        link.replace_with(' HYPERLINK ' + link.getText())\n",
    "    text = soup.getText().strip()\n",
    "    #https://docs.python.org/3.5/library/re.html#re.sub\n",
    "    text = re.sub(r'(\\s*\\n+)', '\\n', text, flags=re.M | re.S) # r.M (multiline), r.S (dot matches all)\n",
    "    return text"
   ]
  },
  {
   "cell_type": "code",
   "execution_count": 108,
   "metadata": {},
   "outputs": [
    {
     "name": "stdout",
     "output_type": "stream",
     "text": [
      "Full Access Medical\n",
      " HYPERLINK\n",
      "          To sign up for the Full Access Medical, LLC Plan the applicant must\n",
      "          be at least 18 and pay a one-time enrollment fee of  regardless of\n",
      "          the number of dependents enrolled. This non-insurance healthcare plan\n",
      "          is not available in Washington.\n",
      "This email is not sent unsolicited. You are receiving it because you requested receive this email by opting-in with our marketing partner. You will receive notices of exciting offers, products, and other options! However, we are committed to only sending to those people that desire these offers. If you do not wish to receive such offers\n",
      " HYPERLINK Click Here. or paste the following into any browser: http://65.162.84.5/perl/unsubscribe.pl?s=20020510190852000001230835  to remove your email name from our list. You may contact our company by mail at 1323 S.E. 17th Street, Suite Number 345, Ft. Lauderdale, Fl 33316\n"
     ]
    }
   ],
   "source": [
    "print(html_to_plain_text(html_sample))"
   ]
  },
  {
   "cell_type": "markdown",
   "metadata": {},
   "source": [
    "Now, a function that takes an email and returns the text regardless of the input type/structure"
   ]
  },
  {
   "cell_type": "code",
   "execution_count": 109,
   "metadata": {},
   "outputs": [],
   "source": [
    "def email_to_text(email):\n",
    "    html = None\n",
    "    for part in email.walk():\n",
    "        ctype = part.get_content_type()\n",
    "        if not ctype in ('text/plain', 'text/html'):\n",
    "            continue\n",
    "        try:\n",
    "            content = part.get_content()\n",
    "        except: # in case of encoding issues\n",
    "            content = str(part.get_payload())\n",
    "        if ctype == 'text/plain':\n",
    "            return content\n",
    "        else:\n",
    "            html = content\n",
    "    if html:\n",
    "        return html_to_plain_text(html)"
   ]
  },
  {
   "cell_type": "code",
   "execution_count": 110,
   "metadata": {},
   "outputs": [
    {
     "name": "stdout",
     "output_type": "stream",
     "text": [
      "Full Access Medical\n",
      " HYPERLINK\n",
      "          To sign up for the Full Access Medical, LLC Plan the applic ...\n"
     ]
    }
   ],
   "source": [
    "print(email_to_text(html_spam_emails[0])[:100], '...')"
   ]
  },
  {
   "cell_type": "markdown",
   "metadata": {},
   "source": [
    "Works good!\n",
    "\n",
    "Now, we need to do some NLP, for this we will need to install ```nltk```"
   ]
  },
  {
   "cell_type": "code",
   "execution_count": 111,
   "metadata": {},
   "outputs": [
    {
     "name": "stdout",
     "output_type": "stream",
     "text": [
      "Computations => comput\n",
      "Computation => comput\n",
      "Computing => comput\n",
      "Computed => comput\n",
      "Compute => comput\n",
      "Compulsive => compuls\n"
     ]
    }
   ],
   "source": [
    "from nltk import PorterStemmer\n",
    "\n",
    "stemmer = PorterStemmer()\n",
    "for word in (\"Computations\", \"Computation\", \"Computing\", \"Computed\", \"Compute\", \"Compulsive\"):\n",
    "    print(word, '=>', stemmer.stem(word))"
   ]
  },
  {
   "cell_type": "markdown",
   "metadata": {},
   "source": [
    "Now let's detect the urls. For this we will use ```urlextract``` which will simple extract from a given text, anything that is a url."
   ]
  },
  {
   "cell_type": "code",
   "execution_count": 112,
   "metadata": {},
   "outputs": [
    {
     "data": {
      "text/plain": [
       "['',\n",
       " '/Users/ferro/anaconda3/lib/python36.zip',\n",
       " '/Users/ferro/anaconda3/lib/python3.6',\n",
       " '/Users/ferro/anaconda3/lib/python3.6/lib-dynload',\n",
       " '/Users/ferro/anaconda3/lib/python3.6/site-packages',\n",
       " '/Users/ferro/anaconda3/lib/python3.6/site-packages/aeosa',\n",
       " '/Users/ferro/anaconda3/lib/python3.6/site-packages/IPython/extensions',\n",
       " '/Users/ferro/.ipython']"
      ]
     },
     "execution_count": 112,
     "metadata": {},
     "output_type": "execute_result"
    }
   ],
   "source": [
    "import os\n",
    "import sys\n",
    "sys.path"
   ]
  },
  {
   "cell_type": "code",
   "execution_count": 113,
   "metadata": {},
   "outputs": [
    {
     "name": "stdout",
     "output_type": "stream",
     "text": [
      "['github.com', 'https://youtu.be/7Pq-S557XQU?t=3m32s']\n"
     ]
    }
   ],
   "source": [
    "from urlextract import URLExtract\n",
    "\n",
    "url_extractor = URLExtract()\n",
    "print(url_extractor.find_urls(\"Will it detect github.com and https://youtu.be/7Pq-S557XQU?t=3m32s\"))"
   ]
  },
  {
   "cell_type": "markdown",
   "metadata": {},
   "source": [
    "Now we'll need to put all this togheter and build the transformers.\n",
    "\n",
    "**Note:** Here we are just using space split for separating the words then counting them, however, Asian languages (Chinese, Japanese and Vietnamese) don't follow the same conventions to separate words hence this approach is not general. This dataset is mostly english language, hence we are okay with it."
   ]
  },
  {
   "cell_type": "code",
   "execution_count": 114,
   "metadata": {},
   "outputs": [],
   "source": [
    "from sklearn.base import BaseEstimator, TransformerMixin\n",
    "\n",
    "class Email2WordCounterTransformer(BaseEstimator, TransformerMixin):\n",
    "    def __init__(self, strip_headers=True, lower_case=True, remove_punctuation=True,\n",
    "                replace_urls=True, replace_numbers=True, stemming=True):\n",
    "        self.strip_headers = strip_headers\n",
    "        self.lower_case = lower_case\n",
    "        self.remove_punctuation = remove_punctuation\n",
    "        self.replace_urls = replace_urls\n",
    "        self.replace_numbers = replace_numbers\n",
    "        self.stemming = stemming\n",
    "    def fit(self, X, y=None):\n",
    "        return self\n",
    "    def transform(self, X, y=None):\n",
    "        X_transformed = []\n",
    "        for email in X:\n",
    "            # if email_to_text(email) evaluates to a falsy value, then \"\" is assigned to text,\n",
    "            # otherwise the value of email_to_text(email)\n",
    "            text = email_to_text(email) or \"\"\n",
    "            if self.lower_case:\n",
    "                text = text.lower()\n",
    "            ## Assuming url_extractor is already instantiated\n",
    "            if self.replace_urls and url_extractor is not None:\n",
    "                urls = list(set(url_extractor.find_urls(text)))\n",
    "                urls.sort(key=lambda url: len(url), reverse=True)\n",
    "                ## Replace all the urls with the word 'URL'\n",
    "                for url in urls:\n",
    "                    text = text.replace(url, \" URL \")\n",
    "            if self.replace_numbers:\n",
    "                ## Basically replace all the numbers with the word 'NUMBER'\n",
    "                text = re.sub(r'\\d+(?:\\.\\d*(?:[eE]\\d+))?', 'NUMBER', text)\n",
    "            if self.remove_punctuation:\n",
    "                ## Remove everything that is not a word, apply multiline\n",
    "                text = re.sub(r'\\W+', ' ', text, flags=re.M)\n",
    "            word_counts = Counter(text.split())\n",
    "            ## Assumming the stemmer is already instantiated\n",
    "            if self.stemming and stemmer is not None:\n",
    "                stemmed_word_counts = Counter()\n",
    "                for word, count in word_counts.items():\n",
    "                    stemmed_word = stemmer.stem(word)\n",
    "                    stemmed_word_counts[stemmed_word] += count\n",
    "                word_counts = stemmed_word_counts\n",
    "            X_transformed.append(word_counts)\n",
    "        return np.array(X_transformed)"
   ]
  },
  {
   "cell_type": "markdown",
   "metadata": {},
   "source": [
    "Let's test it"
   ]
  },
  {
   "cell_type": "code",
   "execution_count": 115,
   "metadata": {},
   "outputs": [
    {
     "ename": "AttributeError",
     "evalue": "'IPv4Address' object has no attribute 'split'",
     "output_type": "error",
     "traceback": [
      "\u001b[0;31m---------------------------------------------------------------------------\u001b[0m",
      "\u001b[0;31mAttributeError\u001b[0m                            Traceback (most recent call last)",
      "\u001b[0;32m<ipython-input-115-461573c01a90>\u001b[0m in \u001b[0;36m<module>\u001b[0;34m()\u001b[0m\n\u001b[1;32m      1\u001b[0m \u001b[0mX_few\u001b[0m \u001b[0;34m=\u001b[0m \u001b[0mX_train\u001b[0m\u001b[0;34m[\u001b[0m\u001b[0;34m:\u001b[0m\u001b[0;36m3\u001b[0m\u001b[0;34m]\u001b[0m\u001b[0;34m\u001b[0m\u001b[0;34m\u001b[0m\u001b[0m\n\u001b[0;32m----> 2\u001b[0;31m \u001b[0mX_few_wordcounts\u001b[0m \u001b[0;34m=\u001b[0m \u001b[0mEmail2WordCounterTransformer\u001b[0m\u001b[0;34m(\u001b[0m\u001b[0;34m)\u001b[0m\u001b[0;34m.\u001b[0m\u001b[0mfit_transform\u001b[0m\u001b[0;34m(\u001b[0m\u001b[0mX_few\u001b[0m\u001b[0;34m)\u001b[0m\u001b[0;34m\u001b[0m\u001b[0;34m\u001b[0m\u001b[0m\n\u001b[0m\u001b[1;32m      3\u001b[0m \u001b[0mX_few_wordcounts\u001b[0m\u001b[0;34m\u001b[0m\u001b[0;34m\u001b[0m\u001b[0m\n",
      "\u001b[0;32m~/anaconda3/lib/python3.6/site-packages/sklearn/base.py\u001b[0m in \u001b[0;36mfit_transform\u001b[0;34m(self, X, y, **fit_params)\u001b[0m\n\u001b[1;32m    515\u001b[0m         \u001b[0;32mif\u001b[0m \u001b[0my\u001b[0m \u001b[0;32mis\u001b[0m \u001b[0;32mNone\u001b[0m\u001b[0;34m:\u001b[0m\u001b[0;34m\u001b[0m\u001b[0;34m\u001b[0m\u001b[0m\n\u001b[1;32m    516\u001b[0m             \u001b[0;31m# fit method of arity 1 (unsupervised transformation)\u001b[0m\u001b[0;34m\u001b[0m\u001b[0;34m\u001b[0m\u001b[0;34m\u001b[0m\u001b[0m\n\u001b[0;32m--> 517\u001b[0;31m             \u001b[0;32mreturn\u001b[0m \u001b[0mself\u001b[0m\u001b[0;34m.\u001b[0m\u001b[0mfit\u001b[0m\u001b[0;34m(\u001b[0m\u001b[0mX\u001b[0m\u001b[0;34m,\u001b[0m \u001b[0;34m**\u001b[0m\u001b[0mfit_params\u001b[0m\u001b[0;34m)\u001b[0m\u001b[0;34m.\u001b[0m\u001b[0mtransform\u001b[0m\u001b[0;34m(\u001b[0m\u001b[0mX\u001b[0m\u001b[0;34m)\u001b[0m\u001b[0;34m\u001b[0m\u001b[0;34m\u001b[0m\u001b[0m\n\u001b[0m\u001b[1;32m    518\u001b[0m         \u001b[0;32melse\u001b[0m\u001b[0;34m:\u001b[0m\u001b[0;34m\u001b[0m\u001b[0;34m\u001b[0m\u001b[0m\n\u001b[1;32m    519\u001b[0m             \u001b[0;31m# fit method of arity 2 (supervised transformation)\u001b[0m\u001b[0;34m\u001b[0m\u001b[0;34m\u001b[0m\u001b[0;34m\u001b[0m\u001b[0m\n",
      "\u001b[0;32m<ipython-input-114-caa519424ccc>\u001b[0m in \u001b[0;36mtransform\u001b[0;34m(self, X, y)\u001b[0m\n\u001b[1;32m     22\u001b[0m             \u001b[0;31m## Assuming url_extractor is already instantiated\u001b[0m\u001b[0;34m\u001b[0m\u001b[0;34m\u001b[0m\u001b[0;34m\u001b[0m\u001b[0m\n\u001b[1;32m     23\u001b[0m             \u001b[0;32mif\u001b[0m \u001b[0mself\u001b[0m\u001b[0;34m.\u001b[0m\u001b[0mreplace_urls\u001b[0m \u001b[0;32mand\u001b[0m \u001b[0murl_extractor\u001b[0m \u001b[0;32mis\u001b[0m \u001b[0;32mnot\u001b[0m \u001b[0;32mNone\u001b[0m\u001b[0;34m:\u001b[0m\u001b[0;34m\u001b[0m\u001b[0;34m\u001b[0m\u001b[0m\n\u001b[0;32m---> 24\u001b[0;31m                 \u001b[0murls\u001b[0m \u001b[0;34m=\u001b[0m \u001b[0mlist\u001b[0m\u001b[0;34m(\u001b[0m\u001b[0mset\u001b[0m\u001b[0;34m(\u001b[0m\u001b[0murl_extractor\u001b[0m\u001b[0;34m.\u001b[0m\u001b[0mfind_urls\u001b[0m\u001b[0;34m(\u001b[0m\u001b[0mtext\u001b[0m\u001b[0;34m)\u001b[0m\u001b[0;34m)\u001b[0m\u001b[0;34m)\u001b[0m\u001b[0;34m\u001b[0m\u001b[0;34m\u001b[0m\u001b[0m\n\u001b[0m\u001b[1;32m     25\u001b[0m                 \u001b[0murls\u001b[0m\u001b[0;34m.\u001b[0m\u001b[0msort\u001b[0m\u001b[0;34m(\u001b[0m\u001b[0mkey\u001b[0m\u001b[0;34m=\u001b[0m\u001b[0;32mlambda\u001b[0m \u001b[0murl\u001b[0m\u001b[0;34m:\u001b[0m \u001b[0mlen\u001b[0m\u001b[0;34m(\u001b[0m\u001b[0murl\u001b[0m\u001b[0;34m)\u001b[0m\u001b[0;34m,\u001b[0m \u001b[0mreverse\u001b[0m\u001b[0;34m=\u001b[0m\u001b[0;32mTrue\u001b[0m\u001b[0;34m)\u001b[0m\u001b[0;34m\u001b[0m\u001b[0;34m\u001b[0m\u001b[0m\n\u001b[1;32m     26\u001b[0m                 \u001b[0;31m## Replace all the urls with the word 'URL'\u001b[0m\u001b[0;34m\u001b[0m\u001b[0;34m\u001b[0m\u001b[0;34m\u001b[0m\u001b[0m\n",
      "\u001b[0;32m~/anaconda3/lib/python3.6/site-packages/urlextract/urlextract_core.py\u001b[0m in \u001b[0;36mfind_urls\u001b[0;34m(self, text, only_unique)\u001b[0m\n\u001b[1;32m    566\u001b[0m         \u001b[0murls\u001b[0m \u001b[0;34m=\u001b[0m \u001b[0mself\u001b[0m\u001b[0;34m.\u001b[0m\u001b[0mgen_urls\u001b[0m\u001b[0;34m(\u001b[0m\u001b[0mtext\u001b[0m\u001b[0;34m)\u001b[0m\u001b[0;34m\u001b[0m\u001b[0;34m\u001b[0m\u001b[0m\n\u001b[1;32m    567\u001b[0m         \u001b[0murls\u001b[0m \u001b[0;34m=\u001b[0m \u001b[0mOrderedDict\u001b[0m\u001b[0;34m.\u001b[0m\u001b[0mfromkeys\u001b[0m\u001b[0;34m(\u001b[0m\u001b[0murls\u001b[0m\u001b[0;34m)\u001b[0m \u001b[0;32mif\u001b[0m \u001b[0monly_unique\u001b[0m \u001b[0;32melse\u001b[0m \u001b[0murls\u001b[0m\u001b[0;34m\u001b[0m\u001b[0;34m\u001b[0m\u001b[0m\n\u001b[0;32m--> 568\u001b[0;31m         \u001b[0;32mreturn\u001b[0m \u001b[0mlist\u001b[0m\u001b[0;34m(\u001b[0m\u001b[0murls\u001b[0m\u001b[0;34m)\u001b[0m\u001b[0;34m\u001b[0m\u001b[0;34m\u001b[0m\u001b[0m\n\u001b[0m\u001b[1;32m    569\u001b[0m \u001b[0;34m\u001b[0m\u001b[0m\n\u001b[1;32m    570\u001b[0m     \u001b[0;32mdef\u001b[0m \u001b[0mhas_urls\u001b[0m\u001b[0;34m(\u001b[0m\u001b[0mself\u001b[0m\u001b[0;34m,\u001b[0m \u001b[0mtext\u001b[0m\u001b[0;34m)\u001b[0m\u001b[0;34m:\u001b[0m\u001b[0;34m\u001b[0m\u001b[0;34m\u001b[0m\u001b[0m\n",
      "\u001b[0;32m~/anaconda3/lib/python3.6/site-packages/urlextract/urlextract_core.py\u001b[0m in \u001b[0;36mgen_urls\u001b[0;34m(self, text)\u001b[0m\n\u001b[1;32m    540\u001b[0m             \u001b[0mvalidated\u001b[0m \u001b[0;34m=\u001b[0m \u001b[0mself\u001b[0m\u001b[0;34m.\u001b[0m\u001b[0m_validate_tld_match\u001b[0m\u001b[0;34m(\u001b[0m\u001b[0mtext\u001b[0m\u001b[0;34m,\u001b[0m \u001b[0mtld\u001b[0m\u001b[0;34m,\u001b[0m \u001b[0moffset\u001b[0m \u001b[0;34m+\u001b[0m \u001b[0mtld_pos\u001b[0m\u001b[0;34m)\u001b[0m\u001b[0;34m\u001b[0m\u001b[0;34m\u001b[0m\u001b[0m\n\u001b[1;32m    541\u001b[0m             \u001b[0;32mif\u001b[0m \u001b[0mtld_pos\u001b[0m \u001b[0;34m!=\u001b[0m \u001b[0;34m-\u001b[0m\u001b[0;36m1\u001b[0m \u001b[0;32mand\u001b[0m \u001b[0mvalidated\u001b[0m\u001b[0;34m:\u001b[0m\u001b[0;34m\u001b[0m\u001b[0;34m\u001b[0m\u001b[0m\n\u001b[0;32m--> 542\u001b[0;31m                 \u001b[0mtmp_url\u001b[0m \u001b[0;34m=\u001b[0m \u001b[0mself\u001b[0m\u001b[0;34m.\u001b[0m\u001b[0m_complete_url\u001b[0m\u001b[0;34m(\u001b[0m\u001b[0mtext\u001b[0m\u001b[0;34m,\u001b[0m \u001b[0moffset\u001b[0m \u001b[0;34m+\u001b[0m \u001b[0mtld_pos\u001b[0m\u001b[0;34m,\u001b[0m \u001b[0mtld\u001b[0m\u001b[0;34m)\u001b[0m\u001b[0;34m\u001b[0m\u001b[0;34m\u001b[0m\u001b[0m\n\u001b[0m\u001b[1;32m    543\u001b[0m                 \u001b[0;32mif\u001b[0m \u001b[0mtmp_url\u001b[0m\u001b[0;34m:\u001b[0m\u001b[0;34m\u001b[0m\u001b[0;34m\u001b[0m\u001b[0m\n\u001b[1;32m    544\u001b[0m                     \u001b[0;32myield\u001b[0m \u001b[0mtmp_url\u001b[0m\u001b[0;34m\u001b[0m\u001b[0;34m\u001b[0m\u001b[0m\n",
      "\u001b[0;32m~/anaconda3/lib/python3.6/site-packages/urlextract/urlextract_core.py\u001b[0m in \u001b[0;36m_complete_url\u001b[0;34m(self, text, tld_pos, tld)\u001b[0m\n\u001b[1;32m    349\u001b[0m         complete_url = self._remove_enclosure_from_url(\n\u001b[1;32m    350\u001b[0m             complete_url, tld_pos-start_pos, tld)\n\u001b[0;32m--> 351\u001b[0;31m         \u001b[0;32mif\u001b[0m \u001b[0;32mnot\u001b[0m \u001b[0mself\u001b[0m\u001b[0;34m.\u001b[0m\u001b[0m_is_domain_valid\u001b[0m\u001b[0;34m(\u001b[0m\u001b[0mcomplete_url\u001b[0m\u001b[0;34m,\u001b[0m \u001b[0mtld\u001b[0m\u001b[0;34m)\u001b[0m\u001b[0;34m:\u001b[0m\u001b[0;34m\u001b[0m\u001b[0;34m\u001b[0m\u001b[0m\n\u001b[0m\u001b[1;32m    352\u001b[0m             \u001b[0;32mreturn\u001b[0m \u001b[0;34m\"\"\u001b[0m\u001b[0;34m\u001b[0m\u001b[0;34m\u001b[0m\u001b[0m\n\u001b[1;32m    353\u001b[0m \u001b[0;34m\u001b[0m\u001b[0m\n",
      "\u001b[0;32m~/anaconda3/lib/python3.6/site-packages/urlextract/urlextract_core.py\u001b[0m in \u001b[0;36m_is_domain_valid\u001b[0;34m(self, url, tld)\u001b[0m\n\u001b[1;32m    436\u001b[0m             \u001b[0;32mreturn\u001b[0m \u001b[0;32mFalse\u001b[0m\u001b[0;34m\u001b[0m\u001b[0;34m\u001b[0m\u001b[0m\n\u001b[1;32m    437\u001b[0m \u001b[0;34m\u001b[0m\u001b[0m\n\u001b[0;32m--> 438\u001b[0;31m         \u001b[0mhost_parts\u001b[0m \u001b[0;34m=\u001b[0m \u001b[0mhost\u001b[0m\u001b[0;34m.\u001b[0m\u001b[0msplit\u001b[0m\u001b[0;34m(\u001b[0m\u001b[0;34m'.'\u001b[0m\u001b[0;34m)\u001b[0m\u001b[0;34m\u001b[0m\u001b[0;34m\u001b[0m\u001b[0m\n\u001b[0m\u001b[1;32m    439\u001b[0m         \u001b[0;32mif\u001b[0m \u001b[0mlen\u001b[0m\u001b[0;34m(\u001b[0m\u001b[0mhost_parts\u001b[0m\u001b[0;34m)\u001b[0m \u001b[0;34m<=\u001b[0m \u001b[0;36m1\u001b[0m\u001b[0;34m:\u001b[0m\u001b[0;34m\u001b[0m\u001b[0;34m\u001b[0m\u001b[0m\n\u001b[1;32m    440\u001b[0m             \u001b[0;32mreturn\u001b[0m \u001b[0;32mFalse\u001b[0m\u001b[0;34m\u001b[0m\u001b[0;34m\u001b[0m\u001b[0m\n",
      "\u001b[0;31mAttributeError\u001b[0m: 'IPv4Address' object has no attribute 'split'"
     ]
    }
   ],
   "source": [
    "X_few = X_train[:3]\n",
    "X_few_wordcounts = Email2WordCounterTransformer().fit_transform(X_few)\n",
    "X_few_wordcounts"
   ]
  },
  {
   "cell_type": "markdown",
   "metadata": {},
   "source": [
    "Now we must convert this into a vector, basically we will build a matrix for which each column represents a word and the value in each cell represents the occurrences of this word in the sample. We will end up with a sparse matrix, i.e., a lot of zeros and a few cells with actual values.\n",
    "\n",
    "We will create another transformer, this time we will implement the ```fit``` method, as the first purpose is to build a vocabulary from the word counts. Then the ```transform``` method will transform the data into this vocabulary."
   ]
  },
  {
   "cell_type": "code",
   "execution_count": 65,
   "metadata": {},
   "outputs": [],
   "source": [
    "from scipy.sparse import csr_matrix\n",
    "\n",
    "class WordCounter2VectorTransformer(BaseEstimator, TransformerMixin):\n",
    "    def __init__(self, vocabulary_size=1000):\n",
    "        self.vocabulary_size = vocabulary_size\n",
    "    def fit(self, X, y=None):\n",
    "        total_count = Counter()\n",
    "        ## iterate over each sample in X\n",
    "        for word_count in X:\n",
    "            for word, count in word_count.items():\n",
    "                ## keep track of how many times the word appears. I'm not sure why the author has a threshold of 10, perhaps to prevent a explosion of frequencies?\n",
    "                #total_count[word] += min(count, 10)\n",
    "                total_count[word] += count\n",
    "        most_common = total_count.most_common()[:self.vocabulary_size]\n",
    "        self.most_common = most_common\n",
    "        self.vocabulary_ = {word: index + 1 for index, (word, count) in enumerate(most_common)}\n",
    "        return self\n",
    "    def transform(self, X, y=None):\n",
    "        rows = []\n",
    "        cols = []\n",
    "        data = []\n",
    "        for row, word_count in enumerate(X):\n",
    "            for word, count in word_count.items():\n",
    "                rows.append(row)\n",
    "                cols.append(self.vocabulary_.get(word, 0))\n",
    "                data.append(count)\n",
    "        return csr_matrix((data, (rows, cols)), shape=(len(X), self.vocabulary_size + 1))"
   ]
  },
  {
   "cell_type": "code",
   "execution_count": 66,
   "metadata": {},
   "outputs": [
    {
     "data": {
      "text/plain": [
       "<3x11 sparse matrix of type '<class 'numpy.int64'>'\n",
       "\twith 28 stored elements in Compressed Sparse Row format>"
      ]
     },
     "execution_count": 66,
     "metadata": {},
     "output_type": "execute_result"
    }
   ],
   "source": [
    "vocab_transformer = WordCounter2VectorTransformer(vocabulary_size=10)\n",
    "X_few_vectors = vocab_transformer.fit_transform(X_few_wordcounts)\n",
    "X_few_vectors"
   ]
  },
  {
   "cell_type": "code",
   "execution_count": 67,
   "metadata": {},
   "outputs": [
    {
     "data": {
      "text/plain": [
       "array([[ 52,   2,   0,   1,   2,   4,   1,   1,   3,   2,   2],\n",
       "       [106,   8,   8,   4,   5,   3,   5,   3,   2,   3,   1],\n",
       "       [ 40,   3,   5,   3,   0,   0,   1,   1,   0,   0,   2]],\n",
       "      dtype=int64)"
      ]
     },
     "execution_count": 67,
     "metadata": {},
     "output_type": "execute_result"
    }
   ],
   "source": [
    "X_few_vectors.toarray()"
   ]
  },
  {
   "cell_type": "code",
   "execution_count": 45,
   "metadata": {},
   "outputs": [
    {
     "data": {
      "text/plain": [
       "{'at': 10,\n",
       " 'i': 1,\n",
       " 'it': 5,\n",
       " 'look': 9,\n",
       " 'number': 2,\n",
       " 't': 8,\n",
       " 'that': 7,\n",
       " 'the': 4,\n",
       " 'to': 6,\n",
       " 'url': 3}"
      ]
     },
     "execution_count": 45,
     "metadata": {},
     "output_type": "execute_result"
    }
   ],
   "source": [
    "vocab_transformer.vocabulary_"
   ]
  },
  {
   "cell_type": "markdown",
   "metadata": {},
   "source": [
    "Now let's train a spam classifier"
   ]
  },
  {
   "cell_type": "code",
   "execution_count": 68,
   "metadata": {},
   "outputs": [],
   "source": [
    "from sklearn.pipeline import Pipeline\n",
    "\n",
    "preprocess_pipeline = Pipeline([\n",
    "    (\"email_to_wordcount\", Email2WordCounterTransformer()),\n",
    "    (\"wordcount_to_vector\", WordCounter2VectorTransformer())\n",
    "])\n",
    "\n",
    "X_train_transformed = preprocess_pipeline.fit_transform(X_train)"
   ]
  },
  {
   "cell_type": "code",
   "execution_count": 69,
   "metadata": {},
   "outputs": [
    {
     "name": "stdout",
     "output_type": "stream",
     "text": [
      "[CV]  ................................................................\n",
      "[CV] ....................... , score=0.9889570552147239, total=   0.1s\n",
      "[CV]  ................................................................\n"
     ]
    },
    {
     "name": "stderr",
     "output_type": "stream",
     "text": [
      "[Parallel(n_jobs=1)]: Done   1 out of   1 | elapsed:    0.1s remaining:    0.0s\n",
      "[Parallel(n_jobs=1)]: Done   2 out of   2 | elapsed:    0.2s remaining:    0.0s\n"
     ]
    },
    {
     "name": "stdout",
     "output_type": "stream",
     "text": [
      "[CV] ........................ , score=0.992619926199262, total=   0.1s\n",
      "[CV]  ................................................................\n",
      "[CV] ........................ , score=0.985239852398524, total=   0.2s\n"
     ]
    },
    {
     "name": "stderr",
     "output_type": "stream",
     "text": [
      "[Parallel(n_jobs=1)]: Done   3 out of   3 | elapsed:    0.5s finished\n"
     ]
    },
    {
     "data": {
      "text/plain": [
       "0.98893894460417"
      ]
     },
     "execution_count": 69,
     "metadata": {},
     "output_type": "execute_result"
    }
   ],
   "source": [
    "from sklearn.linear_model import LogisticRegression\n",
    "from sklearn.model_selection import cross_val_score\n",
    "\n",
    "log_clf = LogisticRegression(solver=\"liblinear\", random_state=42)\n",
    "score = cross_val_score(log_clf, X_train_transformed, y_train, cv=3, verbose=3)\n",
    "score.mean()"
   ]
  },
  {
   "cell_type": "code",
   "execution_count": 74,
   "metadata": {},
   "outputs": [
    {
     "name": "stdout",
     "output_type": "stream",
     "text": [
      "Train Precision Score: 100.00%\n",
      "Train Recall Score: 99.27%\n",
      "Test Precision Score: 18.52%\n",
      "Test Recall Score: 5.43%\n"
     ]
    }
   ],
   "source": [
    "from sklearn.metrics import precision_score, recall_score\n",
    "\n",
    "X_test_transformed = preprocess_pipeline.fit_transform(X_test)\n",
    "\n",
    "log_clf = LogisticRegression(solver=\"liblinear\", random_state=42)\n",
    "log_clf.fit(X_train_transformed, y_train)\n",
    "\n",
    "y_train_pred = log_clf.predict(X_train_transformed)\n",
    "y_test_pred = log_clf.predict(X_test_transformed)\n",
    "\n",
    "train_precision = 100 * precision_score(y_train, y_train_pred)\n",
    "train_recall = 100 *recall_score(y_train, y_train_pred)\n",
    "\n",
    "test_precision = 100 * precision_score(y_test, y_test_pred)\n",
    "test_recall = 100 *recall_score(y_test, y_test_pred)\n",
    "\n",
    "print(\"Train Precision Score: {:.2f}%\".format(train_precision))\n",
    "print(\"Train Recall Score: {:.2f}%\".format(train_recall))\n",
    "print(\"Test Precision Score: {:.2f}%\".format(test_precision))\n",
    "print(\"Test Recall Score: {:.2f}%\".format(test_recall))"
   ]
  },
  {
   "cell_type": "markdown",
   "metadata": {},
   "source": [
    "Contrary to the author's example, since I'm working with a different dataset, I'm getting far worse performance in the test set. And taking a look at the training score, it seems I'm falling into overfitting."
   ]
  },
  {
   "cell_type": "markdown",
   "metadata": {},
   "source": [
    "# Extras\n",
    "Zone for testing specific parts of the notebook to see how the algorithms are working.\n",
    "\n",
    "## Getting the most common words"
   ]
  },
  {
   "cell_type": "markdown",
   "metadata": {},
   "source": [
    "### References\n",
    "Counters: https://pymotw.com/2/collections/counter.html"
   ]
  },
  {
   "cell_type": "code",
   "execution_count": 63,
   "metadata": {},
   "outputs": [],
   "source": [
    "total_count = Counter()\n",
    "vocabulary_size = 10\n",
    "## iterate over each sample in X\n",
    "for word_count in X_few_wordcounts:\n",
    "    for word, count in word_count.items():\n",
    "        ## keep track of how many times the word appears. I'm not sure why the author has a threshold of 10, perhaps to prevent a explosion of frequencies?\n",
    "        total_count[word] += min(count, 10)\n",
    "        #total_count[word] += count\n",
    "# Counter.most_common() simply will order by count and return a list of tuples with the most frequent words at the top with the count also.\n",
    "most_common = total_count.most_common()[:vocabulary_size]\n",
    "vocabulary = {word: index + 1 for index, (word, count) in enumerate(most_common)}"
   ]
  },
  {
   "cell_type": "code",
   "execution_count": 64,
   "metadata": {},
   "outputs": [
    {
     "data": {
      "text/plain": [
       "[('i', 13),\n",
       " ('number', 13),\n",
       " ('url', 8),\n",
       " ('the', 7),\n",
       " ('it', 7),\n",
       " ('to', 7),\n",
       " ('that', 5),\n",
       " ('t', 5),\n",
       " ('look', 5),\n",
       " ('at', 5)]"
      ]
     },
     "execution_count": 64,
     "metadata": {},
     "output_type": "execute_result"
    }
   ],
   "source": [
    "total_count.most_common()[:10]"
   ]
  },
  {
   "cell_type": "code",
   "execution_count": null,
   "metadata": {},
   "outputs": [],
   "source": []
  }
 ],
 "metadata": {
  "kernelspec": {
   "display_name": "Python 3",
   "language": "python",
   "name": "python3"
  },
  "language_info": {
   "codemirror_mode": {
    "name": "ipython",
    "version": 3
   },
   "file_extension": ".py",
   "mimetype": "text/x-python",
   "name": "python",
   "nbconvert_exporter": "python",
   "pygments_lexer": "ipython3",
   "version": "3.6.8"
  }
 },
 "nbformat": 4,
 "nbformat_minor": 2
}
