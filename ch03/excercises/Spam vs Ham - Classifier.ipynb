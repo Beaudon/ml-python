{
 "cells": [
  {
   "cell_type": "markdown",
   "metadata": {},
   "source": [
    "# Spam Vs Ham Classifier\n",
    "\n",
    "This notebook corresponds to excercise #4 of the book, we will use the Apache Spam assasing corpus https://spamassassin.apache.org/old/publiccorpus/.\n",
    "\n",
    "I'm going to work with:\n",
    "* 20021010_spam.tar.bz2 (Contains emails flagged as spam)\n",
    "* 20021010_easy_ham.tar.bz2 (Contains easily recognizable ham emails)\n",
    "* 20021010_hard_ham.tar.bz2 (Contains ham emails but can be mistaken with spam)\n",
    "\n",
    "## Data exploration\n",
    "Let's see the content of these folders.\n"
   ]
  },
  {
   "cell_type": "code",
   "execution_count": 1,
   "metadata": {},
   "outputs": [],
   "source": [
    "import os\n",
    "import tarfile\n",
    "from six.moves import urllib\n",
    "\n",
    "DOWNLOAD_URL = \"http://spamassassin.apache.org/old/publiccorpus/\"\n",
    "HAM_URL = DOWNLOAD_URL + \"20021010_easy_ham.tar.bz2\"\n",
    "SPAM_URL = DOWNLOAD_URL + \"20021010_spam.tar.bz2\"\n",
    "DATASETS_PATH = os.path.join('./', 'spamham')\n",
    "\n",
    "def fetch_data(files, datasets_path=DATASETS_PATH):\n",
    "    if not files:\n",
    "        raise ValueError(\"You must provide the files to download\")\n",
    "    \n",
    "    if type(files) != tuple:\n",
    "        if type(files) == list and type(files[0]) != tuple:\n",
    "            raise ValueError(\"The files must be a tuple or list of tuples e.g.: ('filename', 'url') or [('filename', 'url')]\")\n",
    "                \n",
    "    if not os.path.isdir(datasets_path):\n",
    "        os.makedirs(datasets_path)\n",
    "        \n",
    "    for filename, url in files:\n",
    "        path = os.path.join(datasets_path, filename)\n",
    "        if not os.path.isfile(path):\n",
    "            urllib.request.urlretrieve(url, path)\n",
    "        tar_bz2_file = tarfile.open(path)\n",
    "        tar_bz2_file.extractall(path=DATASETS_PATH)\n",
    "        tar_bz2_file.close()"
   ]
  },
  {
   "cell_type": "code",
   "execution_count": 2,
   "metadata": {},
   "outputs": [],
   "source": [
    "files = [\n",
    "    ('ham.tar.bz2', HAM_URL),\n",
    "    ('spam.tar.bz2', SPAM_URL)\n",
    "]\n",
    "\n",
    "fetch_data(files)"
   ]
  },
  {
   "cell_type": "code",
   "execution_count": 3,
   "metadata": {},
   "outputs": [],
   "source": [
    "HAM_DIR = os.path.join(DATASETS_PATH, 'easy_ham')\n",
    "SPAM_DIR = os.path.join(DATASETS_PATH, 'spam')\n",
    "\n",
    "ham_filenames = [name for name in sorted(os.listdir(HAM_DIR)) if len(name) > 20]\n",
    "spam_filenames = [name for name in sorted(os.listdir(SPAM_DIR)) if len(name) > 20]"
   ]
  },
  {
   "cell_type": "code",
   "execution_count": 4,
   "metadata": {},
   "outputs": [
    {
     "name": "stdout",
     "output_type": "stream",
     "text": [
      "Ham samples:  2551\n",
      "Spam samples:  501\n"
     ]
    }
   ],
   "source": [
    "print(\"Ham samples: \", len(ham_filenames))\n",
    "print(\"Spam samples: \", len(spam_filenames))"
   ]
  },
  {
   "cell_type": "code",
   "execution_count": 5,
   "metadata": {},
   "outputs": [],
   "source": [
    "import email\n",
    "import email.policy\n",
    "\n",
    "def load_email(is_spam, filename, path=DATASETS_PATH):\n",
    "    directory = 'spam' if is_spam else 'easy_ham'\n",
    "    with open(os.path.join(DATASETS_PATH, directory, filename), 'rb') as f:\n",
    "        return email.parser.BytesParser(policy=email.policy.default).parse(f)"
   ]
  },
  {
   "cell_type": "code",
   "execution_count": 6,
   "metadata": {},
   "outputs": [],
   "source": [
    "ham_emails = [load_email(False, name) for name in ham_filenames]\n",
    "spam_emails = [load_email(True, name) for name in spam_filenames]"
   ]
  },
  {
   "cell_type": "markdown",
   "metadata": {},
   "source": [
    "### This is a ham email"
   ]
  },
  {
   "cell_type": "code",
   "execution_count": 7,
   "metadata": {},
   "outputs": [
    {
     "name": "stdout",
     "output_type": "stream",
     "text": [
      "Date:        Wed, 21 Aug 2002 10:54:46 -0500\n",
      "    From:        Chris Garrigues <cwg-dated-1030377287.06fa6d@DeepEddy.Com>\n",
      "    Message-ID:  <1029945287.4797.TMDA@deepeddy.vircio.com>\n",
      "\n",
      "\n",
      "  | I can't reproduce this error.\n",
      "\n",
      "For me it is very repeatable... (like every time, without fail).\n",
      "\n",
      "This is the debug log of the pick happening ...\n",
      "\n",
      "18:19:03 Pick_It {exec pick +inbox -list -lbrace -lbrace -subject ftp -rbrace -rbrace} {4852-4852 -sequence mercury}\n",
      "18:19:03 exec pick +inbox -list -lbrace -lbrace -subject ftp -rbrace -rbrace 4852-4852 -sequence mercury\n",
      "18:19:04 Ftoc_PickMsgs {{1 hit}}\n",
      "18:19:04 Marking 1 hits\n",
      "18:19:04 tkerror: syntax error in expression \"int ...\n",
      "\n",
      "Note, if I run the pick command by hand ...\n",
      "\n",
      "delta$ pick +inbox -list -lbrace -lbrace -subject ftp -rbrace -rbrace  4852-4852 -sequence mercury\n",
      "1 hit\n",
      "\n",
      "That's where the \"1 hit\" comes from (obviously).  The version of nmh I'm\n",
      "using is ...\n",
      "\n",
      "delta$ pick -version\n",
      "pick -- nmh-1.0.4 [compiled on fuchsia.cs.mu.OZ.AU at Sun Mar 17 14:55:56 ICT 2002]\n",
      "\n",
      "And the relevant part of my .mh_profile ...\n",
      "\n",
      "delta$ mhparam pick\n",
      "-seq sel -list\n",
      "\n",
      "\n",
      "Since the pick command works, the sequence (actually, both of them, the\n",
      "one that's explicit on the command line, from the search popup, and the\n",
      "one that comes from .mh_profile) do get created.\n",
      "\n",
      "kre\n",
      "\n",
      "ps: this is still using the version of the code form a day ago, I haven't\n",
      "been able to reach the cvs repository today (local routing issue I think).\n",
      "\n",
      "\n",
      "\n",
      "_______________________________________________\n",
      "Exmh-workers mailing list\n",
      "Exmh-workers@redhat.com\n",
      "https://listman.redhat.com/mailman/listinfo/exmh-workers\n"
     ]
    }
   ],
   "source": [
    "print(ham_emails[0].get_content().strip())"
   ]
  },
  {
   "cell_type": "markdown",
   "metadata": {},
   "source": [
    "### Now this is a spam"
   ]
  },
  {
   "cell_type": "code",
   "execution_count": 8,
   "metadata": {},
   "outputs": [
    {
     "name": "stdout",
     "output_type": "stream",
     "text": [
      "A POWERHOUSE GIFTING PROGRAM You Don't Want To Miss! \n",
      " \n",
      "  GET IN WITH THE FOUNDERS! \n",
      "The MAJOR PLAYERS are on This ONE\n",
      "For ONCE be where the PlayerS are\n",
      "This is YOUR Private Invitation\n",
      "\n",
      "EXPERTS ARE CALLING THIS THE FASTEST WAY \n",
      "TO HUGE CASH FLOW EVER CONCEIVED\n",
      "Leverage $1,000 into $50,000 Over and Over Again\n",
      "\n",
      "THE QUESTION HERE IS:\n",
      "YOU EITHER WANT TO BE WEALTHY \n",
      "OR YOU DON'T!!!\n",
      "WHICH ONE ARE YOU?\n",
      "I am tossing you a financial lifeline and for your sake I \n",
      "Hope you GRAB onto it and hold on tight For the Ride of youR life!\n",
      "\n",
      "Testimonials\n",
      "\n",
      "Hear what average people are doing their first few days:\n",
      "�We've received 8,000 in 1 day and we are doing that over and over again!' Q.S. in AL\n",
      " �I'm a single mother in FL and I've received 12,000 in the last 4 days.� D. S. in FL\n",
      "�I was not sure about this when I sent off my $1,000 pledge, but I got back $2,000 the very next day!� L.L. in KY\n",
      "�I didn't have the money, so I found myself a partner to work this with. We have received $4,000 over the last 2 days. \n",
      "I think I made the right decision; don't you?� K. C. in FL\n",
      "�I pick up $3,000 my first day and I  they gave me free leads and all the training, you can too!� J.W. in CA\n",
      "\n",
      "ANNOUNCING: We will CLOSE your sales for YOU! And Help you get a Fax Blast IMMEDIATELY Upon Your Entry!!!    YOU Make the MONEY!!!\n",
      "FREE LEADS!!! TRAINING!!!\n",
      "\n",
      "$$DON'T WAIT!!! CALL NOW $$\n",
      "FAX BACK TO: 1-800-421-6318 OR Call 1-800-896-6568 \n",
      "\n",
      "Name__________________________________Phone___________________________________________\n",
      "\n",
      "Fax_____________________________________Email____________________________________________\n",
      "\n",
      "Best Time To Call_________________________Time Zone________________________________________\n",
      "\n",
      "This message is sent in compliance of the new e-mail bill. \"Per Section 301, Paragraph (a)(2)(C) of S. 1618, further transmissions by the sender of this email may be stopped, at no cost to you, by sending a reply to this email address with the word \"REMOVE\" in the subject line. Errors, omissions, and exceptions excluded.\n",
      " \n",
      "This is NOT spam! I have compiled this list from our Replicate Database, relative to Seattle Marketing Group, The Gigt, or Turbo Team for the sole purpose of these communications. Your continued inclusion is ONLY by your gracious permission. If you wish to not receive this mail from me, please send an email to tesrewinter@yahoo.com with \"Remove\" in the subject and you will be deleted immediately.\n"
     ]
    }
   ],
   "source": [
    "print(spam_emails[6].get_content().strip())"
   ]
  },
  {
   "cell_type": "markdown",
   "metadata": {},
   "source": [
    "### Email structures\n",
    "Emails can have different structures, some might contain attachments, and attached emails that might also contain attachments. Let's decompose the email structures."
   ]
  },
  {
   "cell_type": "code",
   "execution_count": 9,
   "metadata": {},
   "outputs": [],
   "source": [
    "def get_email_structure(email):\n",
    "    if isinstance(email, str):\n",
    "        return email\n",
    "    payload = email.get_payload()\n",
    "    if isinstance(payload, list):\n",
    "        return \"multipart({})\".format(\", \".join([\n",
    "            get_email_structure(sub_email) for sub_email in payload\n",
    "        ]))\n",
    "    else:\n",
    "        return email.get_content_type()"
   ]
  },
  {
   "cell_type": "code",
   "execution_count": 10,
   "metadata": {},
   "outputs": [],
   "source": [
    "from collections import Counter\n",
    "\n",
    "def structures_counter(emails):\n",
    "    structures = Counter()\n",
    "    for email in emails:\n",
    "        structure = get_email_structure(email)\n",
    "        structures[structure] += 1\n",
    "    return structures"
   ]
  },
  {
   "cell_type": "code",
   "execution_count": 11,
   "metadata": {},
   "outputs": [
    {
     "data": {
      "text/plain": [
       "[('text/plain', 2453),\n",
       " ('multipart(text/plain, application/pgp-signature)', 72),\n",
       " ('multipart(text/plain, text/html)', 8),\n",
       " ('multipart(text/plain, text/plain)', 4),\n",
       " ('multipart(text/plain)', 3),\n",
       " ('multipart(text/plain, application/octet-stream)', 2),\n",
       " ('multipart(text/plain, text/enriched)', 1),\n",
       " ('multipart(text/plain, application/ms-tnef, text/plain)', 1),\n",
       " ('multipart(multipart(text/plain, text/plain, text/plain), application/pgp-signature)',\n",
       "  1),\n",
       " ('multipart(text/plain, video/mng)', 1),\n",
       " ('multipart(text/plain, multipart(text/plain))', 1),\n",
       " ('multipart(text/plain, application/x-pkcs7-signature)', 1),\n",
       " ('multipart(text/plain, multipart(text/plain, text/plain), text/rfc822-headers)',\n",
       "  1),\n",
       " ('multipart(text/plain, multipart(text/plain, text/plain), multipart(multipart(text/plain, application/x-pkcs7-signature)))',\n",
       "  1),\n",
       " ('multipart(text/plain, application/x-java-applet)', 1)]"
      ]
     },
     "execution_count": 11,
     "metadata": {},
     "output_type": "execute_result"
    }
   ],
   "source": [
    "ham_structure_count = structures_counter(ham_emails).most_common()\n",
    "ham_structure_count"
   ]
  },
  {
   "cell_type": "code",
   "execution_count": 12,
   "metadata": {},
   "outputs": [
    {
     "data": {
      "text/plain": [
       "[('text/plain', 222),\n",
       " ('text/html', 181),\n",
       " ('multipart(text/plain, text/html)', 45),\n",
       " ('multipart(text/html)', 19),\n",
       " ('multipart(text/plain)', 19),\n",
       " ('multipart(multipart(text/html))', 5),\n",
       " ('multipart(text/plain, image/jpeg)', 3),\n",
       " ('multipart(text/html, application/octet-stream)', 2),\n",
       " ('multipart(text/plain, application/octet-stream)', 1),\n",
       " ('multipart(text/html, text/plain)', 1),\n",
       " ('multipart(multipart(text/html), application/octet-stream, image/jpeg)', 1),\n",
       " ('multipart(multipart(text/plain, text/html), image/gif)', 1),\n",
       " ('multipart/alternative', 1)]"
      ]
     },
     "execution_count": 12,
     "metadata": {},
     "output_type": "execute_result"
    }
   ],
   "source": [
    "spam_structure_count = structures_counter(spam_emails).most_common()\n",
    "spam_structure_count"
   ]
  },
  {
   "cell_type": "markdown",
   "metadata": {},
   "source": [
    "It seems the proportion of text/plan vs text/html is significantly different. Spam emails tend to be more on the text/html side. Also, ham emails tend to use pgp-signature while none of the spam emails uses one. This might be a useful attribute."
   ]
  },
  {
   "cell_type": "code",
   "execution_count": 13,
   "metadata": {},
   "outputs": [],
   "source": [
    "import numpy as np\n",
    "\n",
    "ham_structures = np.array([[pair[0], pair[1]] for pair in ham_structure_count])\n",
    "spam_structures = np.array([[pair[0], pair[1]] for pair in spam_structure_count])"
   ]
  },
  {
   "cell_type": "code",
   "execution_count": 14,
   "metadata": {},
   "outputs": [
    {
     "data": {
      "text/plain": [
       "<Figure size 1500x800 with 1 Axes>"
      ]
     },
     "metadata": {},
     "output_type": "display_data"
    }
   ],
   "source": [
    "import matplotlib.pyplot as plt\n",
    "\n",
    "# Omit the first class as the proportion won't allow to see the rest\n",
    "ham_struct_types = ham_structures[1:,0]\n",
    "ham_struct_counts = ham_structures[1:,1].astype(np.int)\n",
    "\n",
    "classes = [\"A\", \"B\", \"C\", \"D\", \"E\", \"F\", \"G\", \"H\", \"I\", \"J\", \"L\", \"M\", \"N\", \"O\"]\n",
    "prop_iter = iter(plt.cm.tab20.colors)\n",
    "\n",
    "plt.figure(figsize=(15, 8))\n",
    "legends = []\n",
    "for t, c, l in zip(classes, ham_struct_counts, ham_struct_types):\n",
    "    bar = plt.bar(t, c, color=next(prop_iter), label=l)\n",
    "    legends.append(bar)\n",
    "plt.legend(handles=legends)\n",
    "plt.show()"
   ]
  },
  {
   "cell_type": "markdown",
   "metadata": {},
   "source": [
    "In the above plot, I have omitted the text/plain class as the amount surpasses significantly the others and mekes them hard to see. From this chart, we can observe that among ham, the most frequent class other than plain/text is the one that uses pgp-signature.\n",
    "\n",
    "Now, let's observe what happens with the spam."
   ]
  },
  {
   "cell_type": "code",
   "execution_count": 15,
   "metadata": {},
   "outputs": [
    {
     "data": {
      "image/png": "[encoded data removed]",
      "text/plain": [
       "<Figure size 1080x576 with 1 Axes>"
      ]
     },
     "metadata": {
      "needs_background": "light"
     },
     "output_type": "display_data"
    }
   ],
   "source": [
    "spam_struct_types = spam_structures[0:,0]\n",
    "spam_struct_counts = spam_structures[0:,1].astype(np.int)\n",
    "\n",
    "classes = [\"A\", \"B\", \"C\", \"D\", \"E\", \"F\", \"G\", \"H\", \"I\", \"J\", \"L\", \"M\", \"N\"]\n",
    "prop_iter = iter(plt.cm.tab20.colors)\n",
    "\n",
    "plt.figure(figsize=(15, 8))\n",
    "legends = []\n",
    "for t, c, l in zip(classes, spam_struct_counts, spam_struct_types):\n",
    "    bar = plt.bar(t, c, color=next(prop_iter), label=l)\n",
    "    legends.append(bar)\n",
    "plt.legend(handles=legends)\n",
    "plt.show()"
   ]
  },
  {
   "cell_type": "markdown",
   "metadata": {},
   "source": [
    "On Spam, we observe that there is no signature type emails, the highest ones are text/plain and text/html.\n",
    "\n",
    "### Email headers"
   ]
  },
  {
   "cell_type": "code",
   "execution_count": 16,
   "metadata": {},
   "outputs": [
    {
     "name": "stdout",
     "output_type": "stream",
     "text": [
      "Return-Path : <12a1mailbot1@web.de>\n",
      "Delivered-To : zzzz@localhost.example.com\n",
      "Received : from localhost (localhost [127.0.0.1])\tby phobos.labs.example.com (Postfix) with ESMTP id 136B943C32\tfor <zzzz@localhost>; Thu, 22 Aug 2002 08:17:21 -0400 (EDT)\n",
      "Received : from mail.webnote.net [193.120.211.219]\tby localhost with POP3 (fetchmail-5.9.0)\tfor zzzz@localhost (single-drop); Thu, 22 Aug 2002 13:17:21 +0100 (IST)\n",
      "Received : from dd_it7 ([210.97.77.167])\tby webnote.net (8.9.3/8.9.3) with ESMTP id NAA04623\tfor <zzzz@example.com>; Thu, 22 Aug 2002 13:09:41 +0100\n",
      "From : 12a1mailbot1@web.de\n",
      "Received : from r-smtp.korea.com - 203.122.2.197 by dd_it7  with Microsoft SMTPSVC(5.5.1775.675.6);\t Sat, 24 Aug 2002 09:42:10 +0900\n",
      "To : dcek1a1@netsgo.com\n",
      "Subject : Life Insurance - Why Pay More?\n",
      "Date : Wed, 21 Aug 2002 20:31:57 -1600\n",
      "MIME-Version : 1.0\n",
      "Message-ID : <0103c1042001882DD_IT7@dd_it7>\n",
      "Content-Type : text/html; charset=\"iso-8859-1\"\n",
      "Content-Transfer-Encoding : quoted-printable\n"
     ]
    }
   ],
   "source": [
    "for header, value in spam_emails[1].items():\n",
    "    print(header, \":\", value)"
   ]
  },
  {
   "cell_type": "markdown",
   "metadata": {},
   "source": [
    "Probably, there is useful information here, like the sender, this kind of email, 'Life Insurance - Why Pay More?' looks suspicuous."
   ]
  },
  {
   "cell_type": "code",
   "execution_count": 17,
   "metadata": {},
   "outputs": [
    {
     "data": {
      "text/plain": [
       "'Life Insurance - Why Pay More?'"
      ]
     },
     "execution_count": 17,
     "metadata": {},
     "output_type": "execute_result"
    }
   ],
   "source": [
    "spam_emails[1][\"Subject\"]"
   ]
  },
  {
   "cell_type": "markdown",
   "metadata": {},
   "source": [
    "### Train/Test Split"
   ]
  },
  {
   "cell_type": "code",
   "execution_count": 18,
   "metadata": {},
   "outputs": [],
   "source": [
    "import numpy as np\n",
    "from sklearn.model_selection import train_test_split\n",
    "\n",
    "X = np.array(ham_emails + spam_emails)\n",
    "y = np.array([0] * len(ham_emails) + [1] * len(spam_emails))\n",
    "\n",
    "X_train, X_test, y_train, y_test = train_test_split(X, y, test_size=0.2, random_state=42)"
   ]
  },
  {
   "cell_type": "markdown",
   "metadata": {},
   "source": [
    "### Preprocessing\n",
    "We would want to convert HTML emails into plain/text. The original author's solutions creates regex based parsers but suggest BeautifulSoup as an alternative. I'm going to use this library for the sake of learning!\n",
    "\n",
    "Ref\n",
    "* https://www.crummy.com/software/BeautifulSoup/bs4/doc/"
   ]
  },
  {
   "cell_type": "code",
   "execution_count": 19,
   "metadata": {},
   "outputs": [],
   "source": [
    "#From X_train get all where the indexes has a y_train==1\n",
    "html_spam_emails = [email for email in X_train[y_train==1] if get_email_structure(email) == \"text/html\"]\n",
    "html_sample = html_spam_emails[0].get_content().strip()"
   ]
  },
  {
   "cell_type": "markdown",
   "metadata": {},
   "source": [
    "This is a spam sample in HTML form"
   ]
  },
  {
   "cell_type": "code",
   "execution_count": 20,
   "metadata": {},
   "outputs": [
    {
     "name": "stdout",
     "output_type": "stream",
     "text": [
      "<html>\n",
      "\n",
      "<head>\n",
      "<meta http-equiv=\"Content-Language\" content=\"en-us\">\n",
      "<meta name=\"GENERATOR\" content=\"Microsoft FrontPage 4.0\">\n",
      "<meta name=\"ProgId\" content=\"FrontPage.Editor.Document\">\n",
      "<meta http-equiv=\"Content-Type\" content=\"text/html; charset=windows-1252\">\n",
      "<title>Norton AD</title>\n",
      "</head>\n",
      "\n",
      "<body>\n",
      "\n",
      "<table border=\"0\" width=\"489\" height=\"54\" bgcolor=\"#FFFFFF\">\n",
      "  <tr>\n",
      "    <td width=\"100%\" height=\"48\" bgcolor=\"#FFFFFF\" align=\"center\"><font face=\"Impact\" color=\"#CC0000\" size=\"3\">Take\n",
      "      Control of Your Computer With This Top-of-the-Line Software!</font></td>\n",
      "  </tr>\n",
      "</table>\n",
      "\n",
      "<table border=\"5\" cellspacing=\"3\" width=\"489\" cellpadding=\"3\" bgcolor=\"#990033\"  bordercolor=\"#FFFFFF\" style=\"border-collapse: collapse\" bordercolordark=\"#000000\" height=\"567\" bordercolorlight=\"#FFFF99\">\n",
      "  <tr>\n",
      "    <td width=\"467\" height=\"555\" bordercolorlight=\"#FFFFFF\" bordercolordark=\"#FFFF99\">\n",
      "      <table border=\"6\" width=\"100%\" height=\"86\" bgcolor=\"#FFFF99\" bordercolor=\"#FFFFFF\">\n",
      "        <tr>\n",
      "          <td widt ...\n"
     ]
    }
   ],
   "source": [
    "print(html_sample[:1000], '...')"
   ]
  },
  {
   "cell_type": "markdown",
   "metadata": {},
   "source": [
    "Let's take a look at one of the HTML emails using the IPython display"
   ]
  },
  {
   "cell_type": "code",
   "execution_count": 21,
   "metadata": {},
   "outputs": [
    {
     "data": {
      "text/html": [
       "<html>\n",
       "\n",
       "<head>\n",
       "<meta http-equiv=\"Content-Language\" content=\"en-us\">\n",
       "<meta name=\"GENERATOR\" content=\"Microsoft FrontPage 4.0\">\n",
       "<meta name=\"ProgId\" content=\"FrontPage.Editor.Document\">\n",
       "<meta http-equiv=\"Content-Type\" content=\"text/html; charset=windows-1252\">\n",
       "<title>Norton AD</title>\n",
       "</head>\n",
       "\n",
       "<body>\n",
       "\n",
       "<table border=\"0\" width=\"489\" height=\"54\" bgcolor=\"#FFFFFF\">\n",
       "  <tr>\n",
       "    <td width=\"100%\" height=\"48\" bgcolor=\"#FFFFFF\" align=\"center\"><font face=\"Impact\" color=\"#CC0000\" size=\"3\">Take\n",
       "      Control of Your Computer With This Top-of-the-Line Software!</font></td>\n",
       "  </tr>\n",
       "</table>\n",
       "\n",
       "<table border=\"5\" cellspacing=\"3\" width=\"489\" cellpadding=\"3\" bgcolor=\"#990033\"  bordercolor=\"#FFFFFF\" style=\"border-collapse: collapse\" bordercolordark=\"#000000\" height=\"567\" bordercolorlight=\"#FFFF99\">\n",
       "  <tr>\n",
       "    <td width=\"467\" height=\"555\" bordercolorlight=\"#FFFFFF\" bordercolordark=\"#FFFF99\">\n",
       "      <table border=\"6\" width=\"100%\" height=\"86\" bgcolor=\"#FFFF99\" bordercolor=\"#FFFFFF\">\n",
       "        <tr>\n",
       "          <td width=\"100%\" height=\"80\" align=\"center\"><b><font color=\"#FF0000\" face=\"Tahoma\" size=\"6\">Norton\n",
       "            SystemWorks 2002 </font><font face=\"Tahoma\" size=\"5\" color=\"#000000\"> Software Suite</font><font color=\"#FF0000\" face=\"Times New Roman\" size=\"6\"><br>\n",
       "            -<i>Professional Edition</i>-</font></b></td>\n",
       "        </tr>\n",
       "      </table>\n",
       "      <table border=\"0\" width=\"100%\" height=\"62\">\n",
       "        <tr>\n",
       "          <td width=\"100%\" height=\"56\" align=\"center\"><b><font face=\"Tahoma\" color=\"#FFFFFF\" size=\"4\">Includes\n",
       "            Six - </font><i><font face=\"Tahoma\" size=\"4\" color=\"#FFFF99\">Yes 6!</font></i><font face=\"Tahoma\" color=\"#FFFFFF\" size=\"4\"> \n",
       "            - Feature-Packed Utilities<br>ALL for </font><font face=\"Tahoma\" size=\"4\" color=\"#FFFF99\">1</font><font face=\"Tahoma\" color=\"#FFFFFF\" size=\"4\">\n",
       "            Special </font><font face=\"Tahoma\" size=\"4\" color=\"#FFFF99\">LOW</font><font face=\"Tahoma\" color=\"#FFFFFF\" size=\"4\">\n",
       "            Price of </font><font face=\"Tahoma\" size=\"4\" color=\"#FFFF99\">Only\n",
       "            $29.99!</font></b></td>\n",
       "        </tr>\n",
       "      </table>\n",
       "      <table border=\"4\" width=\"100%\" height=\"135\" bgcolor=\"#800000\" bordercolor=\"#FFFFFF\">\n",
       "        <tr>\n",
       "          <td width=\"100%\" height=\"129\" bgcolor=\"#FFFF99\" bordercolor=\"#800000\"><b><font face=\"Tahoma\" size=\"2\"><font color=\"#000000\">This\n",
       "            Software Will:</font><font color=\"#FFFFFF\"><br>&nbsp;</font><font color=\"#FF0000\">-\n",
       "            Protect your computer from unwanted and <i> hazardous</i>  viruses<br>&nbsp;-\n",
       "            Help secure your private &amp; valuable information<br>&nbsp;- Allow\n",
       "            you to transfer files and send e-mails <u> safely</u><br>&nbsp;-\n",
       "            Backup your ALL your data quick and easily<br>&nbsp;- Improve your\n",
       "            PC's performance w/<i>superior</i>\n",
       "            integral diagnostics!<br>&nbsp;- <i>You'll NEVER have to take your\n",
       "            PC to the repair shop AGAIN!</i></font></font></b></td>\n",
       "        </tr>\n",
       "      </table>&nbsp;\n",
       "      <table border=\"4\" width=\"100%\" height=\"4\" bgcolor=\"#FFFFFF\" bordercolor=\"#FFFF99\">\n",
       "        <tr>\n",
       "          <td width=\"100%\" height=\"1\">\n",
       "            <p align=\"center\"><b><font size=\"5\" face=\"Tahoma\"><font color=\"#000000\"><font color=\"#ff0000\">6</font>\n",
       "            Feature-Packed Utilities\n",
       "            </font><font color=\"#000080\" size=\"5\"><br></font><u><font color=\"#ff0000\">1</font><font color=\"#000000\">\n",
       "            Great Price</font></u><font color=\"#000000\" size=\"5\"> <br>\n",
       "            A <font color=\"#ff0000\">$300+</font>  \n",
       "            Combined Retail Value\n",
       "            </font>\n",
       "            <i><font color=\"#FF0000\">YOURS</font></i> <font color=\"#000000\"> for\n",
       "            Only <font color=\"#ff0000\">$29.99!</font>\n",
       "            </font></font><font size=\"6\"><br>\n",
       "            </font></b><font face=\"Tahoma\" size=\"4\"><font color=\"#000000\">&lt;\n",
       "            Price Includes </font><font color=\"#FF0000\">FREE</font><font color=\"#000080\"> \n",
       "            </font><font color=\"#000000\">Shipping! &gt;<br></font></font><font color=\"#FF0000\" size=\"3\" face=\"Impact\">And\n",
       "            For a Limited time Buy Any 2 of Our Products &amp; Get 1 Free!</font></td>\n",
       "        </tr>\n",
       "      </table>\n",
       "    <p align=\"Center\"><b> <font face=\"Arial\" size=\"3\" color=\"#FFFFFF\">Don't fall\n",
       "    prey to destructive viruses or hackers!<br>Protect&nbsp; your computer and\n",
       "    your valuable information and</font></b></p>\n",
       "      <table border=\"4\" width=\"100%\" height=\"44\" bordercolor=\"#FFFF99\" bgcolor=\"#FFFF99\">\n",
       "        <tr>\n",
       "          <td width=\"100%\" height=\"38\" bgcolor=\"#FFFFFF\" align=\"center\"><b><a href=\"http://www.anythinggoeshere.com/\" style=\"color: #FF0000; font-family: Verdana; font-size: 14pt; font-weight: bold\"><font face=\"Tahoma\" size=\"4\" color=\"#FF0000\">-&gt;\n",
       "            CLICK HERE to Order Yours NOW! &lt;-</font></a></b></td>\n",
       "        </tr>\n",
       "      </table>\n",
       "      \n",
       "      <p align=\"Center\"><font color=\"#ffffff\" size=\"1\" face=\"Tahoma\">Your email\n",
       "      address was obtained from an opt-in list. Opt-in UEFAS (United Email\n",
       "      Federation Against Spam) Approved List - &nbsp;Purchase Code #\n",
       "      8594030.&nbsp;&nbsp;If you wish to be unsubscribed from this list, please <a style=\"COLOR: #ffffcc\" href=\"http://www.anythinggoeshere.com/remove.asp\">Click\n",
       "      here</a> . If you have previously unsubscribed and are still receiving\n",
       "      this message, you may email our <a style=\"COLOR: #ffffcc\" href=\"http://www.anythinggoeshere.com/abuse.asp\">Spam\n",
       "      Abuse Control Center</a>. We do not condone spam in any shape or form.\n",
       "      Thank You kindly for your cooperation.</font></td>\n",
       "  </tr>\n",
       "</table>\n",
       "\n",
       "</body>\n",
       "\n",
       "</html>"
      ],
      "text/plain": [
       "<IPython.core.display.HTML object>"
      ]
     },
     "execution_count": 21,
     "metadata": {},
     "output_type": "execute_result"
    }
   ],
   "source": [
    "import IPython\n",
    "IPython.display.HTML(html_sample)"
   ]
  },
  {
   "cell_type": "markdown",
   "metadata": {},
   "source": [
    "Now, the goal is strip down all the HTML tags and just stay with the text. The rules:\n",
    "\n",
    "* All head tags must me removed\n",
    "* All links, i.e., ```<a>``` tags, must be repladed with the word 'HYPERLINK'\n",
    "* All HTML tags must be stripped, i.e., Remove all the ```<whathever/>```\n",
    "* Remove all the HTML escape characters such as ```&gt;```, ```&nbsp;```\n",
    "\n",
    "Fortunately, it seems that Beautiful Soup makes very easy to navigate all the HTML tree effortlessly, so this is just a matter of picking the information as needed."
   ]
  },
  {
   "cell_type": "code",
   "execution_count": 68,
   "metadata": {},
   "outputs": [],
   "source": [
    "from bs4 import BeautifulSoup\n",
    "import re\n",
    "\n",
    "def html_to_plain_text(email):\n",
    "    soup = BeautifulSoup(email, 'html.parser')\n",
    "    for link in soup.findAll('a'):\n",
    "        link.replace_with(' HYPERLINK ' + link.getText())\n",
    "    text = soup.getText().strip()\n",
    "    #https://docs.python.org/3.5/library/re.html#re.sub\n",
    "    text = re.sub(r'(\\s*\\n+)', '\\n', text, flags=re.M | re.S) # r.M (multiline), r.S (dot matches all)\n",
    "    return text"
   ]
  },
  {
   "cell_type": "code",
   "execution_count": 69,
   "metadata": {},
   "outputs": [
    {
     "name": "stdout",
     "output_type": "stream",
     "text": [
      "Norton AD\n",
      "Take\n",
      "      Control of Your Computer With This Top-of-the-Line Software!\n",
      "Norton\n",
      "            SystemWorks 2002  Software Suite\n",
      "            -Professional Edition-\n",
      "Includes\n",
      "            Six - Yes 6!\n",
      "            - Feature-Packed UtilitiesALL for 1\n",
      "            Special LOW\n",
      "            Price of Only\n",
      "            $29.99!\n",
      "This\n",
      "            Software Will: -\n",
      "            Protect your computer from unwanted and  hazardous  viruses -\n",
      "            Help secure your private & valuable information - Allow\n",
      "            you to transfer files and send e-mails  safely -\n",
      "            Backup your ALL your data quick and easily - Improve your\n",
      "            PC's performance w/superior\n",
      "            integral diagnostics! - You'll NEVER have to take your\n",
      "            PC to the repair shop AGAIN!\n",
      "6\n",
      "            Feature-Packed Utilities\n",
      "            1\n",
      "            Great Price\n",
      "            A $300+\n",
      "            Combined Retail Value\n",
      "YOURS  for\n",
      "            Only $29.99!\n",
      "<\n",
      "            Price Includes FREE\n",
      "Shipping! >And\n",
      "            For a Limited time Buy Any 2 of Our Products & Get 1 Free!\n",
      " Don't fall\n",
      "    prey to destructive viruses or hackers!Protect  your computer and\n",
      "    your valuable information and\n",
      " HYPERLINK ->\n",
      "            CLICK HERE to Order Yours NOW! <-\n",
      "Your email\n",
      "      address was obtained from an opt-in list. Opt-in UEFAS (United Email\n",
      "      Federation Against Spam) Approved List -  Purchase Code #\n",
      "      8594030.  If you wish to be unsubscribed from this list, please  HYPERLINK Click\n",
      "      here . If you have previously unsubscribed and are still receiving\n",
      "      this message, you may email our  HYPERLINK Spam\n",
      "      Abuse Control Center. We do not condone spam in any shape or form.\n",
      "      Thank You kindly for your cooperation.\n"
     ]
    }
   ],
   "source": [
    "print(html_to_plain_text(html_sample))"
   ]
  },
  {
   "cell_type": "markdown",
   "metadata": {},
   "source": [
    "Now, a function that takes an email and returns the text regardless of the input type/structure"
   ]
  },
  {
   "cell_type": "code",
   "execution_count": 71,
   "metadata": {},
   "outputs": [],
   "source": [
    "def email_to_text(email):\n",
    "    html = None\n",
    "    for part in email.walk():\n",
    "        ctype = part.get_content_type()\n",
    "        if not ctype in ('text/plain', 'text/html'):\n",
    "            continue\n",
    "        try:\n",
    "            content = part.get_content()\n",
    "        except: # in case of encoding issues\n",
    "            content = str(part.get_payload())\n",
    "        if ctype == 'text/plain':\n",
    "            return content\n",
    "        else:\n",
    "            html = content\n",
    "    if html:\n",
    "        return html_to_plain_text(html)"
   ]
  },
  {
   "cell_type": "code",
   "execution_count": 74,
   "metadata": {},
   "outputs": [
    {
     "name": "stdout",
     "output_type": "stream",
     "text": [
      "Norton AD\n",
      "Take\n",
      "      Control of Your Computer With This Top-of-the-Line Software!\n",
      "Norton\n",
      "            ...\n"
     ]
    }
   ],
   "source": [
    "print(email_to_text(html_spam_emails[0])[:100], '...')"
   ]
  },
  {
   "cell_type": "markdown",
   "metadata": {},
   "source": [
    "Works good!\n",
    "\n",
    "Now, we need to do some NLP, for this we will need to install ```nltk```"
   ]
  },
  {
   "cell_type": "code",
   "execution_count": 75,
   "metadata": {},
   "outputs": [
    {
     "name": "stdout",
     "output_type": "stream",
     "text": [
      "Computations => comput\n",
      "Computation => comput\n",
      "Computing => comput\n",
      "Computed => comput\n",
      "Compute => comput\n",
      "Compulsive => compuls\n"
     ]
    }
   ],
   "source": [
    "from nltk import PorterStemmer\n",
    "\n",
    "stemmer = PorterStemmer()\n",
    "for word in (\"Computations\", \"Computation\", \"Computing\", \"Computed\", \"Compute\", \"Compulsive\"):\n",
    "    print(word, '=>', stemmer.stem(word))"
   ]
  },
  {
   "cell_type": "markdown",
   "metadata": {},
   "source": [
    "Now let's detect the urls. For this we will use ```urlextract``` which will simple extract from a given text, anything that is a url."
   ]
  },
  {
   "cell_type": "code",
   "execution_count": 76,
   "metadata": {},
   "outputs": [
    {
     "name": "stdout",
     "output_type": "stream",
     "text": [
      "['github.com', 'https://youtu.be/7Pq-S557XQU?t=3m32s']\n"
     ]
    }
   ],
   "source": [
    "from urlextract import URLExtract\n",
    "\n",
    "url_extractor = URLExtract()\n",
    "print(url_extractor.find_urls(\"Will it detect github.com and https://youtu.be/7Pq-S557XQU?t=3m32s\"))"
   ]
  },
  {
   "cell_type": "code",
   "execution_count": null,
   "metadata": {},
   "outputs": [],
   "source": []
  }
 ],
 "metadata": {
  "kernelspec": {
   "display_name": "Python 3",
   "language": "python",
   "name": "python3"
  },
  "language_info": {
   "codemirror_mode": {
    "name": "ipython",
    "version": 3
   },
   "file_extension": ".py",
   "mimetype": "text/x-python",
   "name": "python",
   "nbconvert_exporter": "python",
   "pygments_lexer": "ipython3",
   "version": "3.6.7"
  }
 },
 "nbformat": 4,
 "nbformat_minor": 2
}
