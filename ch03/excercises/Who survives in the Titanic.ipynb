{
 "cells": [
  {
   "cell_type": "markdown",
   "metadata": {
    "nbpresent": {
     "id": "f2125ed4-0935-44f7-9776-ee12fbd7c1fb"
    }
   },
   "source": [
    "# Who survives in the titatic\n",
    "\n",
    "This is my solution for the Titanic competition form [Kaggle](https://www.kaggle.com/c/titanic), all the input files are extracted from the mentioned link. I won't upload the datasets to this repository.\n",
    "\n",
    "I assume there is a 'titanic' folder at the same level of this notebook containing the datasets."
   ]
  },
  {
   "cell_type": "code",
   "execution_count": 78,
   "metadata": {
    "nbpresent": {
     "id": "9d174567-43ad-4ce6-b303-7282c8416631"
    }
   },
   "outputs": [],
   "source": [
    "import pandas as pd\n",
    "import numpy as np\n",
    "\n",
    "train = pd.read_csv(\"./titanic/train.csv\")\n",
    "test = pd.read_csv(\"./titanic/test.csv\")\n",
    "gender_submission = pd.read_csv(\"./titanic/gender_submission.csv\")"
   ]
  },
  {
   "cell_type": "code",
   "execution_count": 2,
   "metadata": {
    "nbpresent": {
     "id": "471f63b9-dbb2-481d-9e5e-4eaff3efcf7b"
    }
   },
   "outputs": [
    {
     "data": {
      "text/html": [
       "<div>\n",
       "<style scoped>\n",
       "    .dataframe tbody tr th:only-of-type {\n",
       "        vertical-align: middle;\n",
       "    }\n",
       "\n",
       "    .dataframe tbody tr th {\n",
       "        vertical-align: top;\n",
       "    }\n",
       "\n",
       "    .dataframe thead th {\n",
       "        text-align: right;\n",
       "    }\n",
       "</style>\n",
       "<table border=\"1\" class=\"dataframe\">\n",
       "  <thead>\n",
       "    <tr style=\"text-align: right;\">\n",
       "      <th></th>\n",
       "      <th>PassengerId</th>\n",
       "      <th>Survived</th>\n",
       "      <th>Pclass</th>\n",
       "      <th>Name</th>\n",
       "      <th>Sex</th>\n",
       "      <th>Age</th>\n",
       "      <th>SibSp</th>\n",
       "      <th>Parch</th>\n",
       "      <th>Ticket</th>\n",
       "      <th>Fare</th>\n",
       "      <th>Cabin</th>\n",
       "      <th>Embarked</th>\n",
       "    </tr>\n",
       "  </thead>\n",
       "  <tbody>\n",
       "    <tr>\n",
       "      <th>0</th>\n",
       "      <td>1</td>\n",
       "      <td>0</td>\n",
       "      <td>3</td>\n",
       "      <td>Braund, Mr. Owen Harris</td>\n",
       "      <td>male</td>\n",
       "      <td>22.0</td>\n",
       "      <td>1</td>\n",
       "      <td>0</td>\n",
       "      <td>A/5 21171</td>\n",
       "      <td>7.2500</td>\n",
       "      <td>NaN</td>\n",
       "      <td>S</td>\n",
       "    </tr>\n",
       "    <tr>\n",
       "      <th>1</th>\n",
       "      <td>2</td>\n",
       "      <td>1</td>\n",
       "      <td>1</td>\n",
       "      <td>Cumings, Mrs. John Bradley (Florence Briggs Th...</td>\n",
       "      <td>female</td>\n",
       "      <td>38.0</td>\n",
       "      <td>1</td>\n",
       "      <td>0</td>\n",
       "      <td>PC 17599</td>\n",
       "      <td>71.2833</td>\n",
       "      <td>C85</td>\n",
       "      <td>C</td>\n",
       "    </tr>\n",
       "    <tr>\n",
       "      <th>2</th>\n",
       "      <td>3</td>\n",
       "      <td>1</td>\n",
       "      <td>3</td>\n",
       "      <td>Heikkinen, Miss. Laina</td>\n",
       "      <td>female</td>\n",
       "      <td>26.0</td>\n",
       "      <td>0</td>\n",
       "      <td>0</td>\n",
       "      <td>STON/O2. 3101282</td>\n",
       "      <td>7.9250</td>\n",
       "      <td>NaN</td>\n",
       "      <td>S</td>\n",
       "    </tr>\n",
       "    <tr>\n",
       "      <th>3</th>\n",
       "      <td>4</td>\n",
       "      <td>1</td>\n",
       "      <td>1</td>\n",
       "      <td>Futrelle, Mrs. Jacques Heath (Lily May Peel)</td>\n",
       "      <td>female</td>\n",
       "      <td>35.0</td>\n",
       "      <td>1</td>\n",
       "      <td>0</td>\n",
       "      <td>113803</td>\n",
       "      <td>53.1000</td>\n",
       "      <td>C123</td>\n",
       "      <td>S</td>\n",
       "    </tr>\n",
       "    <tr>\n",
       "      <th>4</th>\n",
       "      <td>5</td>\n",
       "      <td>0</td>\n",
       "      <td>3</td>\n",
       "      <td>Allen, Mr. William Henry</td>\n",
       "      <td>male</td>\n",
       "      <td>35.0</td>\n",
       "      <td>0</td>\n",
       "      <td>0</td>\n",
       "      <td>373450</td>\n",
       "      <td>8.0500</td>\n",
       "      <td>NaN</td>\n",
       "      <td>S</td>\n",
       "    </tr>\n",
       "  </tbody>\n",
       "</table>\n",
       "</div>"
      ],
      "text/plain": [
       "   PassengerId  Survived  Pclass  \\\n",
       "0            1         0       3   \n",
       "1            2         1       1   \n",
       "2            3         1       3   \n",
       "3            4         1       1   \n",
       "4            5         0       3   \n",
       "\n",
       "                                                Name     Sex   Age  SibSp  \\\n",
       "0                            Braund, Mr. Owen Harris    male  22.0      1   \n",
       "1  Cumings, Mrs. John Bradley (Florence Briggs Th...  female  38.0      1   \n",
       "2                             Heikkinen, Miss. Laina  female  26.0      0   \n",
       "3       Futrelle, Mrs. Jacques Heath (Lily May Peel)  female  35.0      1   \n",
       "4                           Allen, Mr. William Henry    male  35.0      0   \n",
       "\n",
       "   Parch            Ticket     Fare Cabin Embarked  \n",
       "0      0         A/5 21171   7.2500   NaN        S  \n",
       "1      0          PC 17599  71.2833   C85        C  \n",
       "2      0  STON/O2. 3101282   7.9250   NaN        S  \n",
       "3      0            113803  53.1000  C123        S  \n",
       "4      0            373450   8.0500   NaN        S  "
      ]
     },
     "execution_count": 2,
     "metadata": {},
     "output_type": "execute_result"
    }
   ],
   "source": [
    "train.head()"
   ]
  },
  {
   "cell_type": "code",
   "execution_count": 3,
   "metadata": {
    "nbpresent": {
     "id": "bc1bd5b4-5e16-4d01-90a5-908022cd3305"
    }
   },
   "outputs": [
    {
     "data": {
      "text/html": [
       "<div>\n",
       "<style scoped>\n",
       "    .dataframe tbody tr th:only-of-type {\n",
       "        vertical-align: middle;\n",
       "    }\n",
       "\n",
       "    .dataframe tbody tr th {\n",
       "        vertical-align: top;\n",
       "    }\n",
       "\n",
       "    .dataframe thead th {\n",
       "        text-align: right;\n",
       "    }\n",
       "</style>\n",
       "<table border=\"1\" class=\"dataframe\">\n",
       "  <thead>\n",
       "    <tr style=\"text-align: right;\">\n",
       "      <th></th>\n",
       "      <th>PassengerId</th>\n",
       "      <th>Survived</th>\n",
       "      <th>Pclass</th>\n",
       "      <th>Age</th>\n",
       "      <th>SibSp</th>\n",
       "      <th>Parch</th>\n",
       "      <th>Fare</th>\n",
       "    </tr>\n",
       "  </thead>\n",
       "  <tbody>\n",
       "    <tr>\n",
       "      <th>count</th>\n",
       "      <td>891.000000</td>\n",
       "      <td>891.000000</td>\n",
       "      <td>891.000000</td>\n",
       "      <td>714.000000</td>\n",
       "      <td>891.000000</td>\n",
       "      <td>891.000000</td>\n",
       "      <td>891.000000</td>\n",
       "    </tr>\n",
       "    <tr>\n",
       "      <th>mean</th>\n",
       "      <td>446.000000</td>\n",
       "      <td>0.383838</td>\n",
       "      <td>2.308642</td>\n",
       "      <td>29.699118</td>\n",
       "      <td>0.523008</td>\n",
       "      <td>0.381594</td>\n",
       "      <td>32.204208</td>\n",
       "    </tr>\n",
       "    <tr>\n",
       "      <th>std</th>\n",
       "      <td>257.353842</td>\n",
       "      <td>0.486592</td>\n",
       "      <td>0.836071</td>\n",
       "      <td>14.526497</td>\n",
       "      <td>1.102743</td>\n",
       "      <td>0.806057</td>\n",
       "      <td>49.693429</td>\n",
       "    </tr>\n",
       "    <tr>\n",
       "      <th>min</th>\n",
       "      <td>1.000000</td>\n",
       "      <td>0.000000</td>\n",
       "      <td>1.000000</td>\n",
       "      <td>0.420000</td>\n",
       "      <td>0.000000</td>\n",
       "      <td>0.000000</td>\n",
       "      <td>0.000000</td>\n",
       "    </tr>\n",
       "    <tr>\n",
       "      <th>25%</th>\n",
       "      <td>223.500000</td>\n",
       "      <td>0.000000</td>\n",
       "      <td>2.000000</td>\n",
       "      <td>20.125000</td>\n",
       "      <td>0.000000</td>\n",
       "      <td>0.000000</td>\n",
       "      <td>7.910400</td>\n",
       "    </tr>\n",
       "    <tr>\n",
       "      <th>50%</th>\n",
       "      <td>446.000000</td>\n",
       "      <td>0.000000</td>\n",
       "      <td>3.000000</td>\n",
       "      <td>28.000000</td>\n",
       "      <td>0.000000</td>\n",
       "      <td>0.000000</td>\n",
       "      <td>14.454200</td>\n",
       "    </tr>\n",
       "    <tr>\n",
       "      <th>75%</th>\n",
       "      <td>668.500000</td>\n",
       "      <td>1.000000</td>\n",
       "      <td>3.000000</td>\n",
       "      <td>38.000000</td>\n",
       "      <td>1.000000</td>\n",
       "      <td>0.000000</td>\n",
       "      <td>31.000000</td>\n",
       "    </tr>\n",
       "    <tr>\n",
       "      <th>max</th>\n",
       "      <td>891.000000</td>\n",
       "      <td>1.000000</td>\n",
       "      <td>3.000000</td>\n",
       "      <td>80.000000</td>\n",
       "      <td>8.000000</td>\n",
       "      <td>6.000000</td>\n",
       "      <td>512.329200</td>\n",
       "    </tr>\n",
       "  </tbody>\n",
       "</table>\n",
       "</div>"
      ],
      "text/plain": [
       "       PassengerId    Survived      Pclass         Age       SibSp  \\\n",
       "count   891.000000  891.000000  891.000000  714.000000  891.000000   \n",
       "mean    446.000000    0.383838    2.308642   29.699118    0.523008   \n",
       "std     257.353842    0.486592    0.836071   14.526497    1.102743   \n",
       "min       1.000000    0.000000    1.000000    0.420000    0.000000   \n",
       "25%     223.500000    0.000000    2.000000   20.125000    0.000000   \n",
       "50%     446.000000    0.000000    3.000000   28.000000    0.000000   \n",
       "75%     668.500000    1.000000    3.000000   38.000000    1.000000   \n",
       "max     891.000000    1.000000    3.000000   80.000000    8.000000   \n",
       "\n",
       "            Parch        Fare  \n",
       "count  891.000000  891.000000  \n",
       "mean     0.381594   32.204208  \n",
       "std      0.806057   49.693429  \n",
       "min      0.000000    0.000000  \n",
       "25%      0.000000    7.910400  \n",
       "50%      0.000000   14.454200  \n",
       "75%      0.000000   31.000000  \n",
       "max      6.000000  512.329200  "
      ]
     },
     "execution_count": 3,
     "metadata": {},
     "output_type": "execute_result"
    }
   ],
   "source": [
    "train.describe()"
   ]
  },
  {
   "cell_type": "markdown",
   "metadata": {
    "nbpresent": {
     "id": "96fb5a25-700a-4184-944e-15bdb1ee5e4f"
    }
   },
   "source": [
    "According to Kaggle's competition web page, the data dictionary is as follows:\n",
    "\n",
    "| Variable      | Definition    | Key        |\n",
    "| ------------- |:-------------:| ----------:|\n",
    "| survival      | Survival      | 0 = No, 1 = Yes |\n",
    "| pclass        | Ticket class  | 1 = 1st, 1 = 2nd, 3 = 3rd |\n",
    "| sex           | Sex           |            |\n",
    "| Age           | Age in years           |            |\n",
    "| sibsp         | # of siblings / spouses aboard the Titanic           |            |\n",
    "| parch         | # of parents / children aboard the Titanic           |            |\n",
    "| ticket        | Ticket number           |            |\n",
    "| fare          | Passenger fare           |            |\n",
    "| cabin         | Cabin number           |            |\n",
    "| embarked      | Port of Embarkation           | C=Cherbourg, Q=Queenstown, S=Southampton           |\n",
    "\n",
    "We are supposed to predict the survival, i.e. 'survived', this is our class. This is naturally a binary classification problem.\n",
    "\n",
    "Now, let's observe how the variables behave.\n",
    "\n",
    "## Data exploration & transformation\n",
    "\n",
    "**Notes:**\n",
    "* Notice we have 891 samples, but not all of them are complete, notice age seems to have some values missing.\n",
    "* Also, we have some string categorical fields, we should convert them.\n",
    "* Other string fields might tell us something, we should inspect them to know if we should discard them or not.\n",
    "\n",
    "# Sex\n",
    "First, we observe genere is a string, let's convert it into binary categories."
   ]
  },
  {
   "cell_type": "code",
   "execution_count": 4,
   "metadata": {
    "nbpresent": {
     "id": "399a978c-55fe-4e4e-9250-2d4d6a3c90a4"
    }
   },
   "outputs": [
    {
     "data": {
      "text/html": [
       "<div>\n",
       "<style scoped>\n",
       "    .dataframe tbody tr th:only-of-type {\n",
       "        vertical-align: middle;\n",
       "    }\n",
       "\n",
       "    .dataframe tbody tr th {\n",
       "        vertical-align: top;\n",
       "    }\n",
       "\n",
       "    .dataframe thead th {\n",
       "        text-align: right;\n",
       "    }\n",
       "</style>\n",
       "<table border=\"1\" class=\"dataframe\">\n",
       "  <thead>\n",
       "    <tr style=\"text-align: right;\">\n",
       "      <th></th>\n",
       "      <th>PassengerId</th>\n",
       "      <th>Survived</th>\n",
       "      <th>Pclass</th>\n",
       "      <th>Name</th>\n",
       "      <th>Sex</th>\n",
       "      <th>Age</th>\n",
       "      <th>SibSp</th>\n",
       "      <th>Parch</th>\n",
       "      <th>Ticket</th>\n",
       "      <th>Fare</th>\n",
       "      <th>Cabin</th>\n",
       "      <th>Embarked</th>\n",
       "    </tr>\n",
       "  </thead>\n",
       "  <tbody>\n",
       "    <tr>\n",
       "      <th>0</th>\n",
       "      <td>1</td>\n",
       "      <td>0</td>\n",
       "      <td>3</td>\n",
       "      <td>Braund, Mr. Owen Harris</td>\n",
       "      <td>1</td>\n",
       "      <td>22.0</td>\n",
       "      <td>1</td>\n",
       "      <td>0</td>\n",
       "      <td>A/5 21171</td>\n",
       "      <td>7.2500</td>\n",
       "      <td>NaN</td>\n",
       "      <td>S</td>\n",
       "    </tr>\n",
       "    <tr>\n",
       "      <th>1</th>\n",
       "      <td>2</td>\n",
       "      <td>1</td>\n",
       "      <td>1</td>\n",
       "      <td>Cumings, Mrs. John Bradley (Florence Briggs Th...</td>\n",
       "      <td>0</td>\n",
       "      <td>38.0</td>\n",
       "      <td>1</td>\n",
       "      <td>0</td>\n",
       "      <td>PC 17599</td>\n",
       "      <td>71.2833</td>\n",
       "      <td>C85</td>\n",
       "      <td>C</td>\n",
       "    </tr>\n",
       "    <tr>\n",
       "      <th>2</th>\n",
       "      <td>3</td>\n",
       "      <td>1</td>\n",
       "      <td>3</td>\n",
       "      <td>Heikkinen, Miss. Laina</td>\n",
       "      <td>0</td>\n",
       "      <td>26.0</td>\n",
       "      <td>0</td>\n",
       "      <td>0</td>\n",
       "      <td>STON/O2. 3101282</td>\n",
       "      <td>7.9250</td>\n",
       "      <td>NaN</td>\n",
       "      <td>S</td>\n",
       "    </tr>\n",
       "    <tr>\n",
       "      <th>3</th>\n",
       "      <td>4</td>\n",
       "      <td>1</td>\n",
       "      <td>1</td>\n",
       "      <td>Futrelle, Mrs. Jacques Heath (Lily May Peel)</td>\n",
       "      <td>0</td>\n",
       "      <td>35.0</td>\n",
       "      <td>1</td>\n",
       "      <td>0</td>\n",
       "      <td>113803</td>\n",
       "      <td>53.1000</td>\n",
       "      <td>C123</td>\n",
       "      <td>S</td>\n",
       "    </tr>\n",
       "    <tr>\n",
       "      <th>4</th>\n",
       "      <td>5</td>\n",
       "      <td>0</td>\n",
       "      <td>3</td>\n",
       "      <td>Allen, Mr. William Henry</td>\n",
       "      <td>1</td>\n",
       "      <td>35.0</td>\n",
       "      <td>0</td>\n",
       "      <td>0</td>\n",
       "      <td>373450</td>\n",
       "      <td>8.0500</td>\n",
       "      <td>NaN</td>\n",
       "      <td>S</td>\n",
       "    </tr>\n",
       "  </tbody>\n",
       "</table>\n",
       "</div>"
      ],
      "text/plain": [
       "   PassengerId  Survived  Pclass  \\\n",
       "0            1         0       3   \n",
       "1            2         1       1   \n",
       "2            3         1       3   \n",
       "3            4         1       1   \n",
       "4            5         0       3   \n",
       "\n",
       "                                                Name  Sex   Age  SibSp  Parch  \\\n",
       "0                            Braund, Mr. Owen Harris    1  22.0      1      0   \n",
       "1  Cumings, Mrs. John Bradley (Florence Briggs Th...    0  38.0      1      0   \n",
       "2                             Heikkinen, Miss. Laina    0  26.0      0      0   \n",
       "3       Futrelle, Mrs. Jacques Heath (Lily May Peel)    0  35.0      1      0   \n",
       "4                           Allen, Mr. William Henry    1  35.0      0      0   \n",
       "\n",
       "             Ticket     Fare Cabin Embarked  \n",
       "0         A/5 21171   7.2500   NaN        S  \n",
       "1          PC 17599  71.2833   C85        C  \n",
       "2  STON/O2. 3101282   7.9250   NaN        S  \n",
       "3            113803  53.1000  C123        S  \n",
       "4            373450   8.0500   NaN        S  "
      ]
     },
     "execution_count": 4,
     "metadata": {},
     "output_type": "execute_result"
    }
   ],
   "source": [
    "# Convert Sex to binary categories\n",
    "train.replace({'Sex': {'male': 1, 'female': 0}}).head()"
   ]
  },
  {
   "cell_type": "markdown",
   "metadata": {
    "nbpresent": {
     "id": "c94a6c49-334e-497e-9529-b853568e5d3d"
    }
   },
   "source": [
    "### The Cabin\n",
    "It seems not all values for Cabin are informed, let's see how these distribute."
   ]
  },
  {
   "cell_type": "code",
   "execution_count": 5,
   "metadata": {
    "nbpresent": {
     "id": "b179ae30-bcd0-4300-9757-6280146a8bc2"
    }
   },
   "outputs": [
    {
     "data": {
      "text/plain": [
       "array([nan, 'C85', 'C123', 'E46', 'G6', 'C103', 'D56', 'A6',\n",
       "       'C23 C25 C27', 'B78', 'D33', 'B30', 'C52', 'B28', 'C83', 'F33',\n",
       "       'F G73', 'E31', 'A5', 'D10 D12', 'D26', 'C110', 'B58 B60', 'E101',\n",
       "       'F E69', 'D47', 'B86', 'F2', 'C2', 'E33', 'B19', 'A7', 'C49', 'F4',\n",
       "       'A32', 'B4', 'B80', 'A31', 'D36', 'D15', 'C93', 'C78', 'D35',\n",
       "       'C87', 'B77', 'E67', 'B94', 'C125', 'C99', 'C118', 'D7', 'A19',\n",
       "       'B49', 'D', 'C22 C26', 'C106', 'C65', 'E36', 'C54',\n",
       "       'B57 B59 B63 B66', 'C7', 'E34', 'C32', 'B18', 'C124', 'C91', 'E40',\n",
       "       'T', 'C128', 'D37', 'B35', 'E50', 'C82', 'B96 B98', 'E10', 'E44',\n",
       "       'A34', 'C104', 'C111', 'C92', 'E38', 'D21', 'E12', 'E63', 'A14',\n",
       "       'B37', 'C30', 'D20', 'B79', 'E25', 'D46', 'B73', 'C95', 'B38',\n",
       "       'B39', 'B22', 'C86', 'C70', 'A16', 'C101', 'C68', 'A10', 'E68',\n",
       "       'B41', 'A20', 'D19', 'D50', 'D9', 'A23', 'B50', 'A26', 'D48',\n",
       "       'E58', 'C126', 'B71', 'B51 B53 B55', 'D49', 'B5', 'B20', 'F G63',\n",
       "       'C62 C64', 'E24', 'C90', 'C45', 'E8', 'B101', 'D45', 'C46', 'D30',\n",
       "       'E121', 'D11', 'E77', 'F38', 'B3', 'D6', 'B82 B84', 'D17', 'A36',\n",
       "       'B102', 'B69', 'E49', 'C47', 'D28', 'E17', 'A24', 'C50', 'B42',\n",
       "       'C148'], dtype=object)"
      ]
     },
     "execution_count": 5,
     "metadata": {},
     "output_type": "execute_result"
    }
   ],
   "source": [
    "train[\"Cabin\"].unique()"
   ]
  },
  {
   "cell_type": "code",
   "execution_count": 6,
   "metadata": {
    "nbpresent": {
     "id": "37753e1c-c987-4ee7-843b-72a8e38b3ae3"
    }
   },
   "outputs": [
    {
     "name": "stdout",
     "output_type": "stream",
     "text": [
      "Proportion of NA cabins vs total passengers 0.77\n",
      "Total of different cabins, including NA 204\n"
     ]
    }
   ],
   "source": [
    "na_cabin = train[\"Cabin\"].isna().sum()\n",
    "passengers = train[\"PassengerId\"].count()\n",
    "cabins = train[\"Cabin\"].count()\n",
    "\n",
    "print(\"Proportion of NA cabins vs total passengers {:.2f}\".format(na_cabin / passengers))\n",
    "print(\"Total of different cabins, including NA {}\".format(cabins))"
   ]
  },
  {
   "cell_type": "markdown",
   "metadata": {
    "nbpresent": {
     "id": "2a780327-717c-4bfd-8c0e-8095174a7fa3"
    }
   },
   "source": [
    "We have way too many NA cabins, 77% of the dataset does not have the cabin informed, and we have 203 different cabins, let's see how the cabin field distribute towards the target class.\n",
    "\n",
    "We might want to convert this field in a binary class, either has cabin or not."
   ]
  },
  {
   "cell_type": "code",
   "execution_count": 7,
   "metadata": {
    "nbpresent": {
     "id": "08be2f65-4022-425f-8419-cc901384a835"
    }
   },
   "outputs": [
    {
     "data": {
      "text/plain": [
       "0    687\n",
       "1    204\n",
       "Name: Cabin, dtype: int64"
      ]
     },
     "execution_count": 7,
     "metadata": {},
     "output_type": "execute_result"
    }
   ],
   "source": [
    "cabin_survive = train.copy()\n",
    "cabin_survive.Cabin = cabin_survive.Cabin.apply(lambda x: 1 if type(x) is str else 0)\n",
    "cabin_survive.Cabin.value_counts()"
   ]
  },
  {
   "cell_type": "markdown",
   "metadata": {
    "nbpresent": {
     "id": "764bc5ea-826b-4542-8aba-12a6cce12d4f"
    }
   },
   "source": [
    "Now, let's plot this to have a visual perspective on the data."
   ]
  },
  {
   "cell_type": "code",
   "execution_count": 8,
   "metadata": {
    "nbpresent": {
     "id": "65efdab4-4732-40b9-b42f-e965596b4111"
    }
   },
   "outputs": [
    {
     "data": {
      "text/plain": [
       "<Figure size 800x600 with 2 Axes>"
      ]
     },
     "metadata": {},
     "output_type": "display_data"
    }
   ],
   "source": [
    "import matplotlib.pyplot as plt\n",
    "\n",
    "w_cabin = cabin_survive[cabin_survive.Cabin == 1]\n",
    "wo_cabin = cabin_survive[cabin_survive.Cabin == 0]\n",
    "w_cabin_counts = w_cabin.Survived.value_counts(sort=False)\n",
    "wo_cabin_counts = wo_cabin.Survived.value_counts(sort=False)\n",
    "\n",
    "plt.figure(figsize=(8, 6))\n",
    "plt.subplot(121)\n",
    "ax = plt.bar([0, 1], w_cabin_counts, color=[\"xkcd:coral\", 'xkcd:ocean blue'], tick_label=[\"\", \"\"])\n",
    "plt.ylabel(\"People survived\")\n",
    "plt.title(\"With cabin infromed\")\n",
    "plt.table(cellText=w_cabin_counts.to_numpy().reshape(1, 2), colLabels=[\"No\", \"Yes\"])\n",
    "\n",
    "plt.subplot(122)\n",
    "plt.bar([0, 1], wo_cabin_counts, color=[\"xkcd:coral\", 'xkcd:ocean blue'], tick_label=[\"\", \"\"])\n",
    "plt.table(cellText=wo_cabin_counts.to_numpy().reshape(1, 2), colLabels=[\"No\", \"Yes\"])\n",
    "plt.title(\"Without cabin infromed\")\n",
    "\n",
    "plt.show()"
   ]
  },
  {
   "cell_type": "markdown",
   "metadata": {
    "nbpresent": {
     "id": "8f292e00-4a88-444d-8ac8-7defe80719b1"
    }
   },
   "source": [
    "For those who has the cabin informed, 33% of the passengers didn't survived, while without cabin, 70% didn't survided.\n",
    "\n",
    "One last lookup on those with cabin."
   ]
  },
  {
   "cell_type": "code",
   "execution_count": 9,
   "metadata": {
    "nbpresent": {
     "id": "43ce367b-2e8b-491a-9978-616ae24e5f1f"
    }
   },
   "outputs": [
    {
     "data": {
      "text/html": [
       "<div>\n",
       "<style scoped>\n",
       "    .dataframe tbody tr th:only-of-type {\n",
       "        vertical-align: middle;\n",
       "    }\n",
       "\n",
       "    .dataframe tbody tr th {\n",
       "        vertical-align: top;\n",
       "    }\n",
       "\n",
       "    .dataframe thead th {\n",
       "        text-align: right;\n",
       "    }\n",
       "</style>\n",
       "<table border=\"1\" class=\"dataframe\">\n",
       "  <thead>\n",
       "    <tr style=\"text-align: right;\">\n",
       "      <th></th>\n",
       "      <th>PassengerId</th>\n",
       "      <th>Cabin</th>\n",
       "      <th>Survived</th>\n",
       "      <th>PassengerId_informed</th>\n",
       "      <th>Cabin_informed</th>\n",
       "    </tr>\n",
       "  </thead>\n",
       "  <tbody>\n",
       "    <tr>\n",
       "      <th>1</th>\n",
       "      <td>2</td>\n",
       "      <td>C85</td>\n",
       "      <td>1</td>\n",
       "      <td>2</td>\n",
       "      <td>1</td>\n",
       "    </tr>\n",
       "    <tr>\n",
       "      <th>3</th>\n",
       "      <td>4</td>\n",
       "      <td>C123</td>\n",
       "      <td>1</td>\n",
       "      <td>4</td>\n",
       "      <td>1</td>\n",
       "    </tr>\n",
       "    <tr>\n",
       "      <th>6</th>\n",
       "      <td>7</td>\n",
       "      <td>E46</td>\n",
       "      <td>0</td>\n",
       "      <td>7</td>\n",
       "      <td>1</td>\n",
       "    </tr>\n",
       "    <tr>\n",
       "      <th>10</th>\n",
       "      <td>11</td>\n",
       "      <td>G6</td>\n",
       "      <td>1</td>\n",
       "      <td>11</td>\n",
       "      <td>1</td>\n",
       "    </tr>\n",
       "    <tr>\n",
       "      <th>11</th>\n",
       "      <td>12</td>\n",
       "      <td>C103</td>\n",
       "      <td>1</td>\n",
       "      <td>12</td>\n",
       "      <td>1</td>\n",
       "    </tr>\n",
       "  </tbody>\n",
       "</table>\n",
       "</div>"
      ],
      "text/plain": [
       "    PassengerId Cabin  Survived  PassengerId_informed  Cabin_informed\n",
       "1             2   C85         1                     2               1\n",
       "3             4  C123         1                     4               1\n",
       "6             7   E46         0                     7               1\n",
       "10           11    G6         1                    11               1\n",
       "11           12  C103         1                    12               1"
      ]
     },
     "execution_count": 9,
     "metadata": {},
     "output_type": "execute_result"
    }
   ],
   "source": [
    "w_cabin_s = train[[\"PassengerId\", \"Cabin\", \"Survived\"]].join(\n",
    "    w_cabin[[\"PassengerId\", \"Cabin\"]], how=\"inner\", rsuffix=\"_informed\"\n",
    ")\n",
    "\n",
    "w_cabin_s.head()"
   ]
  },
  {
   "cell_type": "code",
   "execution_count": 10,
   "metadata": {
    "nbpresent": {
     "id": "039db23a-ca1f-4bc8-99d4-0020f3b0059d"
    }
   },
   "outputs": [
    {
     "name": "stdout",
     "output_type": "stream",
     "text": [
      "Survivors Cabin Letters\n"
     ]
    },
    {
     "name": "stderr",
     "output_type": "stream",
     "text": [
      "/Users/ferro/anaconda3/envs/Deeplearning/lib/python3.6/site-packages/pandas/core/generic.py:5086: SettingWithCopyWarning: \n",
      "A value is trying to be set on a copy of a slice from a DataFrame.\n",
      "Try using .loc[row_indexer,col_indexer] = value instead\n",
      "\n",
      "See the caveats in the documentation: http://pandas.pydata.org/pandas-docs/stable/indexing.html#indexing-view-versus-copy\n",
      "  self[name] = value\n"
     ]
    },
    {
     "data": {
      "text/plain": [
       "C    35\n",
       "B    35\n",
       "D    25\n",
       "E    24\n",
       "F     8\n",
       "A     7\n",
       "G     2\n",
       "Name: Cabin, dtype: int64"
      ]
     },
     "execution_count": 10,
     "metadata": {},
     "output_type": "execute_result"
    }
   ],
   "source": [
    "survived = w_cabin_s[w_cabin_s.Survived == 1]\n",
    "survived.Cabin = survived.Cabin.apply(lambda x: x[0])\n",
    "print(\"Survivors Cabin Letters\")\n",
    "survived.Cabin.value_counts()"
   ]
  },
  {
   "cell_type": "code",
   "execution_count": 11,
   "metadata": {
    "nbpresent": {
     "id": "8d25ad1a-ccfd-439e-a57a-5d508ae46e1f"
    }
   },
   "outputs": [
    {
     "name": "stdout",
     "output_type": "stream",
     "text": [
      "Deceased Cabin Letters\n"
     ]
    },
    {
     "name": "stderr",
     "output_type": "stream",
     "text": [
      "/Users/ferro/anaconda3/envs/Deeplearning/lib/python3.6/site-packages/pandas/core/generic.py:5086: SettingWithCopyWarning: \n",
      "A value is trying to be set on a copy of a slice from a DataFrame.\n",
      "Try using .loc[row_indexer,col_indexer] = value instead\n",
      "\n",
      "See the caveats in the documentation: http://pandas.pydata.org/pandas-docs/stable/indexing.html#indexing-view-versus-copy\n",
      "  self[name] = value\n"
     ]
    },
    {
     "data": {
      "text/plain": [
       "C    24\n",
       "B    12\n",
       "D     8\n",
       "E     8\n",
       "A     8\n",
       "F     5\n",
       "G     2\n",
       "T     1\n",
       "Name: Cabin, dtype: int64"
      ]
     },
     "execution_count": 11,
     "metadata": {},
     "output_type": "execute_result"
    }
   ],
   "source": [
    "survived = w_cabin_s[w_cabin_s.Survived == 0]\n",
    "survived.Cabin = survived.Cabin.apply(lambda x: x[0])\n",
    "print(\"Deceased Cabin Letters\")\n",
    "survived.Cabin.value_counts()"
   ]
  },
  {
   "cell_type": "markdown",
   "metadata": {
    "nbpresent": {
     "id": "fe6ec31e-6655-43ac-872c-45cbbd127846"
    }
   },
   "source": [
    "We can observe presence of all types of cabins (thinking in A, B, C, and D) those in cabins B, C, D, and E had higher survival rate but probably this is due to higher decks had less cabins. This field doesn't seem very promising for survival prediction. According to [Titanica](https://www.encyclopedia-titanica.org/cabins.html) The letters represented the deck the cabin is located but not the class, which is another filed in the data set.\n",
    "\n",
    "So the conclusion is that this field don't contribute very much in the survival prediction of the passenger, however we will include only the deck letter and leave the 'na' with 'X'.\n",
    "\n",
    "## Embarked\n",
    "Now, let's see what happened with this field"
   ]
  },
  {
   "cell_type": "code",
   "execution_count": 12,
   "metadata": {
    "nbpresent": {
     "id": "f8025fff-9349-419f-bd45-3f9506b7723e"
    }
   },
   "outputs": [
    {
     "name": "stdout",
     "output_type": "stream",
     "text": [
      "Embarked unique values: ['S' 'C' 'Q' nan]\n"
     ]
    }
   ],
   "source": [
    "em_unique = train.Embarked.unique()\n",
    "print(\"Embarked unique values:\", em_unique)"
   ]
  },
  {
   "cell_type": "markdown",
   "metadata": {
    "nbpresent": {
     "id": "b5926bd3-cda5-4479-bffe-62098f7fab81"
    }
   },
   "source": [
    "Here we also have 'nan', to have a better glimpsy of the distribution, let's convert this value to a letter."
   ]
  },
  {
   "cell_type": "code",
   "execution_count": 13,
   "metadata": {
    "nbpresent": {
     "id": "98a27ceb-7881-480f-9892-fd597751454a"
    }
   },
   "outputs": [
    {
     "data": {
      "text/plain": [
       "S    644\n",
       "C    168\n",
       "Q     77\n",
       "X      2\n",
       "Name: Embarked, dtype: int64"
      ]
     },
     "execution_count": 13,
     "metadata": {},
     "output_type": "execute_result"
    }
   ],
   "source": [
    "em_survival = train.copy()\n",
    "em_survival[\"Embarked\"].fillna('X', inplace=True)\n",
    "em_survival.Embarked.value_counts()"
   ]
  },
  {
   "cell_type": "markdown",
   "metadata": {
    "nbpresent": {
     "id": "4194377f-0a7d-410b-b0ab-f142e5c47ce2"
    }
   },
   "source": [
    "Just two of them, so we can just leave it like this, i.e., replace the nan for a letter, probably convert it to a categorical numeric value.\n",
    "\n",
    "## Ticket\n",
    "One could not expect that much from the ticket, but let's take a look just at unique values."
   ]
  },
  {
   "cell_type": "code",
   "execution_count": 14,
   "metadata": {
    "nbpresent": {
     "id": "bdcd4427-be8d-4c3b-b25e-5ab8b05a5094"
    }
   },
   "outputs": [
    {
     "name": "stdout",
     "output_type": "stream",
     "text": [
      "Unique tickets:  681\n",
      "Total tickets:  891\n"
     ]
    },
    {
     "data": {
      "text/plain": [
       "347082              7\n",
       "CA. 2343            7\n",
       "1601                7\n",
       "3101295             6\n",
       "CA 2144             6\n",
       "347088              6\n",
       "382652              5\n",
       "S.O.C. 14879        5\n",
       "PC 17757            4\n",
       "2666                4\n",
       "19950               4\n",
       "113760              4\n",
       "349909              4\n",
       "LINE                4\n",
       "113781              4\n",
       "17421               4\n",
       "W./C. 6608          4\n",
       "4133                4\n",
       "347077              4\n",
       "347742              3\n",
       "363291              3\n",
       "29106               3\n",
       "C.A. 34651          3\n",
       "PC 17755            3\n",
       "110413              3\n",
       "13502               3\n",
       "F.C.C. 13529        3\n",
       "110152              3\n",
       "239853              3\n",
       "248727              3\n",
       "                   ..\n",
       "345572              1\n",
       "S.O.P. 1166         1\n",
       "2672                1\n",
       "315090              1\n",
       "347071              1\n",
       "113807              1\n",
       "345781              1\n",
       "113055              1\n",
       "2649                1\n",
       "65304               1\n",
       "347087              1\n",
       "STON/O2. 3101290    1\n",
       "9234                1\n",
       "2683                1\n",
       "2674                1\n",
       "335677              1\n",
       "PC 17754            1\n",
       "349215              1\n",
       "3101277             1\n",
       "C 7077              1\n",
       "STON/O2. 3101282    1\n",
       "349212              1\n",
       "368323              1\n",
       "370377              1\n",
       "365222              1\n",
       "113796              1\n",
       "111369              1\n",
       "113804              1\n",
       "12233               1\n",
       "3101296             1\n",
       "Name: Ticket, Length: 681, dtype: int64"
      ]
     },
     "execution_count": 14,
     "metadata": {},
     "output_type": "execute_result"
    }
   ],
   "source": [
    "unique_tickets = train.Ticket.unique().shape[0]\n",
    "tickets = train.Ticket.value_counts()\n",
    "print(\"Unique tickets: \", unique_tickets)\n",
    "print(\"Total tickets: \", tickets.sum())\n",
    "tickets"
   ]
  },
  {
   "cell_type": "markdown",
   "metadata": {
    "nbpresent": {
     "id": "6e77c9a4-cfe4-4e0c-a5d4-35d34cbcafbd"
    }
   },
   "source": [
    "It seems several people used the same ticket number, let's see how the survival rate behaves when more than one person used the same ticket."
   ]
  },
  {
   "cell_type": "code",
   "execution_count": 15,
   "metadata": {
    "nbpresent": {
     "id": "3dff348d-8e61-42ad-a637-9d98d6c8cbd1"
    }
   },
   "outputs": [
    {
     "name": "stdout",
     "output_type": "stream",
     "text": [
      "Passengers sharing ticket:  344\n"
     ]
    }
   ],
   "source": [
    "ticket_survival = train.copy()\n",
    "# Let's group by the ticket\n",
    "groups = ticket_survival.groupby(\"Ticket\")\n",
    "# Then filter for those who share the same ticket number\n",
    "share_ticket = groups.filter(lambda x: x.PassengerId.count() > 1)\n",
    "\n",
    "print(\"Passengers sharing ticket: \", share_ticket.PassengerId.count())"
   ]
  },
  {
   "cell_type": "markdown",
   "metadata": {
    "nbpresent": {
     "id": "395c234c-ae0b-481f-ba2d-7155ed8c0704"
    }
   },
   "source": [
    "It seems we have a great quantity of passengers sharing a ticket, this represents 38% of the data set. It might be worthy to keep this field .\n",
    "\n",
    "Let's see the survival rate of these people."
   ]
  },
  {
   "cell_type": "code",
   "execution_count": 16,
   "metadata": {
    "nbpresent": {
     "id": "bcc8b1a7-6587-4f90-9838-c783a842e10c"
    }
   },
   "outputs": [
    {
     "data": {
      "image/png": "[encoded data removed]",
      "text/plain": [
       "<Figure size 432x288 with 1 Axes>"
      ]
     },
     "metadata": {
      "needs_background": "light"
     },
     "output_type": "display_data"
    }
   ],
   "source": [
    "plt.bar([0, 1], \n",
    "        share_ticket.Survived.value_counts(sort=False), \n",
    "        color=[\"xkcd:coral\", 'xkcd:ocean blue'], \n",
    "        tick_label=[\"No\", \"Yes\"])\n",
    "plt.title(\"Survival of sharing ticket people\")\n",
    "plt.show()\n"
   ]
  },
  {
   "cell_type": "markdown",
   "metadata": {
    "nbpresent": {
     "id": "b4fbbcda-9bd8-4635-852d-bdcfb90e0972"
    }
   },
   "source": [
    "Seems pretty much even, let's see what happens with the rest."
   ]
  },
  {
   "cell_type": "code",
   "execution_count": 17,
   "metadata": {
    "nbpresent": {
     "id": "596391d0-1b6e-4024-a48c-bec1d6104be0"
    }
   },
   "outputs": [
    {
     "data": {
      "image/png": "[encoded data removed]",
      "text/plain": [
       "<Figure size 432x288 with 1 Axes>"
      ]
     },
     "metadata": {
      "needs_background": "light"
     },
     "output_type": "display_data"
    }
   ],
   "source": [
    "single_ticket = groups.filter(lambda x: x.PassengerId.count() == 1)\n",
    "plt.bar([0, 1], \n",
    "        single_ticket.Survived.value_counts(sort=False), \n",
    "        color=[\"xkcd:coral\", 'xkcd:ocean blue'], \n",
    "        tick_label=[\"No\", \"Yes\"])\n",
    "plt.title(\"Survival of single ticket people\")\n",
    "plt.show()"
   ]
  },
  {
   "cell_type": "markdown",
   "metadata": {
    "nbpresent": {
     "id": "0249a251-488c-41c8-9fb9-c8f6030fd5d0"
    }
   },
   "source": [
    "This time things don't look so even, so people sharing ticket number might have better possibilities of survival, we should preserve this field, however, it might be better to transformit into a binary category format, i.e., either the passenger share a ticket or not.\n",
    "\n",
    "# Build the transformation pipeline\n",
    "Now that we know how what do we need to do to the fields, let's construct a transformation pipeline for this dataset."
   ]
  },
  {
   "cell_type": "code",
   "execution_count": 18,
   "metadata": {
    "nbpresent": {
     "id": "a5e840df-5768-48f6-a03c-ef328696d143"
    }
   },
   "outputs": [
    {
     "data": {
      "text/plain": [
       "array([0, 1, 2, 3])"
      ]
     },
     "execution_count": 18,
     "metadata": {},
     "output_type": "execute_result"
    }
   ],
   "source": [
    "from sklearn.preprocessing import LabelBinarizer, LabelEncoder\n",
    "\n",
    "lb = LabelEncoder()\n",
    "np.unique(lb.fit_transform(train.Embarked.fillna('X')))\n",
    "#train.Embarked.fillna('X').unique()"
   ]
  },
  {
   "cell_type": "code",
   "execution_count": 30,
   "metadata": {
    "nbpresent": {
     "id": "558fed4e-f833-4b7b-b907-2ab753a4f0d8"
    }
   },
   "outputs": [],
   "source": [
    "from sklearn.base import BaseEstimator, TransformerMixin\n",
    "from sklearn.preprocessing import LabelBinarizer, LabelEncoder\n",
    "\n",
    "class DataFrameSelector(BaseEstimator, TransformerMixin):\n",
    "    \"\"\"This transformer will accept a pandas dataframe as input,\n",
    "    and will return the numpy array of features as value\"\"\"\n",
    "    def __init__(self, attribute_names, fillna_value=None):\n",
    "        self.attribute_names = attribute_names\n",
    "        self.fillna_value = fillna_value\n",
    "    def fit(self, X, y=None):\n",
    "        return self\n",
    "    def transform(self, X):\n",
    "        if self.fillna_value:\n",
    "            data = X[self.attribute_names].fillna(self.fillna_value)\n",
    "        else:\n",
    "            data = X[self.attribute_names]\n",
    "        \n",
    "        # ensure the shape has at least two values\n",
    "        data = data.values\n",
    "        if len(data.shape) == 1:\n",
    "            data = data.reshape(data.shape[0], 1)\n",
    "            \n",
    "        return data\n",
    "    \n",
    "class AttributeEncoder(BaseEstimator, TransformerMixin):\n",
    "    \"\"\"Given the input feature arrays, and if we want to\n",
    "    binary or multi-category encode, will transorm the \"\"\"\n",
    "    def __init__(self, binary=False):\n",
    "        self.binary = binary\n",
    "    def fit(self, X, y=None):\n",
    "        return self\n",
    "    def transform(self, X):\n",
    "        le = None\n",
    "        if self.binary:\n",
    "            le = LabelBinarizer()\n",
    "        else:\n",
    "            le = LabelEncoder()\n",
    "        cols = X.shape[1]\n",
    "        transformations = []\n",
    "        for c in range(cols):\n",
    "            transformations.append(le.fit_transform(X[:, c]))\n",
    "        return np.c_[transformations].T\n",
    "\n",
    "class TakeNEncoder(BaseEstimator, TransformerMixin):\n",
    "    \"\"\"Given the input feature arrays, takes the first N\n",
    "    characters of it.\"\"\"\n",
    "    def __init__(self, N):\n",
    "        self.N = N\n",
    "    def fit(self, X, y=None):\n",
    "        return self\n",
    "    def transform(self, X):\n",
    "        cols = X.shape[1]\n",
    "        transformations = []\n",
    "        f = np.vectorize(lambda x: x[self.N-1])\n",
    "        for c in range(cols):\n",
    "            transformations.append(f(X[:, c]))\n",
    "        return np.c_[transformations].T"
   ]
  },
  {
   "cell_type": "code",
   "execution_count": 31,
   "metadata": {
    "nbpresent": {
     "id": "879c7ab7-eb55-426f-a056-cd638d786bbc"
    }
   },
   "outputs": [],
   "source": [
    "from sklearn.pipeline import Pipeline, FeatureUnion\n",
    "from sklearn.impute import SimpleImputer\n",
    "from sklearn.preprocessing import StandardScaler, FunctionTransformer\n",
    "\n",
    "num_attribs = [\"Pclass\", \"Age\", \"SibSp\", \"Parch\", \"Fare\"]\n",
    "cat_attribs = [\"Sex\", \"Ticket\", \"Embarked\"]\n",
    "\n",
    "num_pipeline = Pipeline([\n",
    "    ('selector', DataFrameSelector(num_attribs)),\n",
    "    ('imputer', SimpleImputer(strategy='median')),\n",
    "    ('std_scaler', StandardScaler())\n",
    "])\n",
    "\n",
    "cat_pipeline = Pipeline([\n",
    "    ('selector', DataFrameSelector(cat_attribs, fillna_value='XX')),\n",
    "    ('cat_encoder', AttributeEncoder())\n",
    "])\n",
    "\n",
    "cabin_pipeline = Pipeline([\n",
    "    ('selector', DataFrameSelector(\"Cabin\", fillna_value='XX')),\n",
    "    ('cabin_leter', TakeNEncoder(N=1)),\n",
    "    ('cat_encoder', AttributeEncoder())\n",
    "])\n",
    "\n",
    "full_pipeline = FeatureUnion(transformer_list=[\n",
    "    ('num_pipeline', num_pipeline),\n",
    "    ('cabin_pipeline', cabin_pipeline),\n",
    "    ('cat_pipeline', cat_pipeline)\n",
    "])\n"
   ]
  },
  {
   "cell_type": "code",
   "execution_count": 35,
   "metadata": {
    "nbpresent": {
     "id": "9f36c675-1fe6-47c7-a737-b6917108daf1"
    }
   },
   "outputs": [],
   "source": [
    "train_transformed = full_pipeline.fit_transform(train)"
   ]
  },
  {
   "cell_type": "markdown",
   "metadata": {
    "nbpresent": {
     "id": "73fc4931-fc9e-44ec-b5c7-781be3fb8e77"
    }
   },
   "source": [
    "### Observe the transformed data\n",
    "Now that we have normalized and transformed the data, let's observe the values and how they correlate with each other and also how they contribute to the class."
   ]
  },
  {
   "cell_type": "code",
   "execution_count": 38,
   "metadata": {
    "nbpresent": {
     "id": "34ba6fb6-b449-40e6-bb1a-f18ecc4ae646"
    }
   },
   "outputs": [
    {
     "data": {
      "text/html": [
       "<div>\n",
       "<style scoped>\n",
       "    .dataframe tbody tr th:only-of-type {\n",
       "        vertical-align: middle;\n",
       "    }\n",
       "\n",
       "    .dataframe tbody tr th {\n",
       "        vertical-align: top;\n",
       "    }\n",
       "\n",
       "    .dataframe thead th {\n",
       "        text-align: right;\n",
       "    }\n",
       "</style>\n",
       "<table border=\"1\" class=\"dataframe\">\n",
       "  <thead>\n",
       "    <tr style=\"text-align: right;\">\n",
       "      <th></th>\n",
       "      <th>Pclass</th>\n",
       "      <th>Age</th>\n",
       "      <th>SibSp</th>\n",
       "      <th>Parch</th>\n",
       "      <th>Fare</th>\n",
       "      <th>Cabin</th>\n",
       "      <th>Sex</th>\n",
       "      <th>Ticket</th>\n",
       "      <th>Embarked</th>\n",
       "    </tr>\n",
       "  </thead>\n",
       "  <tbody>\n",
       "    <tr>\n",
       "      <th>0</th>\n",
       "      <td>0.827377</td>\n",
       "      <td>-0.565736</td>\n",
       "      <td>0.432793</td>\n",
       "      <td>-0.473674</td>\n",
       "      <td>-0.502445</td>\n",
       "      <td>8.0</td>\n",
       "      <td>1.0</td>\n",
       "      <td>523.0</td>\n",
       "      <td>2.0</td>\n",
       "    </tr>\n",
       "    <tr>\n",
       "      <th>1</th>\n",
       "      <td>-1.566107</td>\n",
       "      <td>0.663861</td>\n",
       "      <td>0.432793</td>\n",
       "      <td>-0.473674</td>\n",
       "      <td>0.786845</td>\n",
       "      <td>2.0</td>\n",
       "      <td>0.0</td>\n",
       "      <td>596.0</td>\n",
       "      <td>0.0</td>\n",
       "    </tr>\n",
       "    <tr>\n",
       "      <th>2</th>\n",
       "      <td>0.827377</td>\n",
       "      <td>-0.258337</td>\n",
       "      <td>-0.474545</td>\n",
       "      <td>-0.473674</td>\n",
       "      <td>-0.488854</td>\n",
       "      <td>8.0</td>\n",
       "      <td>0.0</td>\n",
       "      <td>669.0</td>\n",
       "      <td>2.0</td>\n",
       "    </tr>\n",
       "    <tr>\n",
       "      <th>3</th>\n",
       "      <td>-1.566107</td>\n",
       "      <td>0.433312</td>\n",
       "      <td>0.432793</td>\n",
       "      <td>-0.473674</td>\n",
       "      <td>0.420730</td>\n",
       "      <td>2.0</td>\n",
       "      <td>0.0</td>\n",
       "      <td>49.0</td>\n",
       "      <td>2.0</td>\n",
       "    </tr>\n",
       "    <tr>\n",
       "      <th>4</th>\n",
       "      <td>0.827377</td>\n",
       "      <td>0.433312</td>\n",
       "      <td>-0.474545</td>\n",
       "      <td>-0.473674</td>\n",
       "      <td>-0.486337</td>\n",
       "      <td>8.0</td>\n",
       "      <td>1.0</td>\n",
       "      <td>472.0</td>\n",
       "      <td>2.0</td>\n",
       "    </tr>\n",
       "  </tbody>\n",
       "</table>\n",
       "</div>"
      ],
      "text/plain": [
       "     Pclass       Age     SibSp     Parch      Fare  Cabin  Sex  Ticket  \\\n",
       "0  0.827377 -0.565736  0.432793 -0.473674 -0.502445    8.0  1.0   523.0   \n",
       "1 -1.566107  0.663861  0.432793 -0.473674  0.786845    2.0  0.0   596.0   \n",
       "2  0.827377 -0.258337 -0.474545 -0.473674 -0.488854    8.0  0.0   669.0   \n",
       "3 -1.566107  0.433312  0.432793 -0.473674  0.420730    2.0  0.0    49.0   \n",
       "4  0.827377  0.433312 -0.474545 -0.473674 -0.486337    8.0  1.0   472.0   \n",
       "\n",
       "   Embarked  \n",
       "0       2.0  \n",
       "1       0.0  \n",
       "2       2.0  \n",
       "3       2.0  \n",
       "4       2.0  "
      ]
     },
     "execution_count": 38,
     "metadata": {},
     "output_type": "execute_result"
    }
   ],
   "source": [
    "columns = [\"Pclass\", \"Age\", \"SibSp\", \"Parch\", \"Fare\", \"Cabin\", \"Sex\", \"Ticket\", \"Embarked\"]\n",
    "transformed_df = pd.DataFrame(train_transformed, columns=columns)\n",
    "transformed_df.head()"
   ]
  },
  {
   "cell_type": "code",
   "execution_count": 39,
   "metadata": {
    "nbpresent": {
     "id": "d128c5ee-b902-4f8f-852b-542c93d0a36d"
    }
   },
   "outputs": [
    {
     "data": {
      "text/html": [
       "<div>\n",
       "<style scoped>\n",
       "    .dataframe tbody tr th:only-of-type {\n",
       "        vertical-align: middle;\n",
       "    }\n",
       "\n",
       "    .dataframe tbody tr th {\n",
       "        vertical-align: top;\n",
       "    }\n",
       "\n",
       "    .dataframe thead th {\n",
       "        text-align: right;\n",
       "    }\n",
       "</style>\n",
       "<table border=\"1\" class=\"dataframe\">\n",
       "  <thead>\n",
       "    <tr style=\"text-align: right;\">\n",
       "      <th></th>\n",
       "      <th>Pclass</th>\n",
       "      <th>Age</th>\n",
       "      <th>SibSp</th>\n",
       "      <th>Parch</th>\n",
       "      <th>Fare</th>\n",
       "      <th>Cabin</th>\n",
       "      <th>Sex</th>\n",
       "      <th>Ticket</th>\n",
       "      <th>Embarked</th>\n",
       "    </tr>\n",
       "  </thead>\n",
       "  <tbody>\n",
       "    <tr>\n",
       "      <th>count</th>\n",
       "      <td>8.910000e+02</td>\n",
       "      <td>8.910000e+02</td>\n",
       "      <td>8.910000e+02</td>\n",
       "      <td>8.910000e+02</td>\n",
       "      <td>8.910000e+02</td>\n",
       "      <td>891.000000</td>\n",
       "      <td>891.000000</td>\n",
       "      <td>891.000000</td>\n",
       "      <td>891.000000</td>\n",
       "    </tr>\n",
       "    <tr>\n",
       "      <th>mean</th>\n",
       "      <td>-8.772133e-17</td>\n",
       "      <td>2.272780e-16</td>\n",
       "      <td>4.386066e-17</td>\n",
       "      <td>5.382900e-17</td>\n",
       "      <td>3.987333e-18</td>\n",
       "      <td>6.716049</td>\n",
       "      <td>0.647587</td>\n",
       "      <td>338.528620</td>\n",
       "      <td>1.538721</td>\n",
       "    </tr>\n",
       "    <tr>\n",
       "      <th>std</th>\n",
       "      <td>1.000562e+00</td>\n",
       "      <td>1.000562e+00</td>\n",
       "      <td>1.000562e+00</td>\n",
       "      <td>1.000562e+00</td>\n",
       "      <td>1.000562e+00</td>\n",
       "      <td>2.460739</td>\n",
       "      <td>0.477990</td>\n",
       "      <td>200.850657</td>\n",
       "      <td>0.794231</td>\n",
       "    </tr>\n",
       "    <tr>\n",
       "      <th>min</th>\n",
       "      <td>-1.566107e+00</td>\n",
       "      <td>-2.224156e+00</td>\n",
       "      <td>-4.745452e-01</td>\n",
       "      <td>-4.736736e-01</td>\n",
       "      <td>-6.484217e-01</td>\n",
       "      <td>0.000000</td>\n",
       "      <td>0.000000</td>\n",
       "      <td>0.000000</td>\n",
       "      <td>0.000000</td>\n",
       "    </tr>\n",
       "    <tr>\n",
       "      <th>25%</th>\n",
       "      <td>-3.693648e-01</td>\n",
       "      <td>-5.657365e-01</td>\n",
       "      <td>-4.745452e-01</td>\n",
       "      <td>-4.736736e-01</td>\n",
       "      <td>-4.891482e-01</td>\n",
       "      <td>8.000000</td>\n",
       "      <td>0.000000</td>\n",
       "      <td>158.500000</td>\n",
       "      <td>1.000000</td>\n",
       "    </tr>\n",
       "    <tr>\n",
       "      <th>50%</th>\n",
       "      <td>8.273772e-01</td>\n",
       "      <td>-1.046374e-01</td>\n",
       "      <td>-4.745452e-01</td>\n",
       "      <td>-4.736736e-01</td>\n",
       "      <td>-3.573909e-01</td>\n",
       "      <td>8.000000</td>\n",
       "      <td>1.000000</td>\n",
       "      <td>337.000000</td>\n",
       "      <td>2.000000</td>\n",
       "    </tr>\n",
       "    <tr>\n",
       "      <th>75%</th>\n",
       "      <td>8.273772e-01</td>\n",
       "      <td>4.333115e-01</td>\n",
       "      <td>4.327934e-01</td>\n",
       "      <td>-4.736736e-01</td>\n",
       "      <td>-2.424635e-02</td>\n",
       "      <td>8.000000</td>\n",
       "      <td>1.000000</td>\n",
       "      <td>519.500000</td>\n",
       "      <td>2.000000</td>\n",
       "    </tr>\n",
       "    <tr>\n",
       "      <th>max</th>\n",
       "      <td>8.273772e-01</td>\n",
       "      <td>3.891554e+00</td>\n",
       "      <td>6.784163e+00</td>\n",
       "      <td>6.974147e+00</td>\n",
       "      <td>9.667167e+00</td>\n",
       "      <td>8.000000</td>\n",
       "      <td>1.000000</td>\n",
       "      <td>680.000000</td>\n",
       "      <td>3.000000</td>\n",
       "    </tr>\n",
       "  </tbody>\n",
       "</table>\n",
       "</div>"
      ],
      "text/plain": [
       "             Pclass           Age         SibSp         Parch          Fare  \\\n",
       "count  8.910000e+02  8.910000e+02  8.910000e+02  8.910000e+02  8.910000e+02   \n",
       "mean  -8.772133e-17  2.272780e-16  4.386066e-17  5.382900e-17  3.987333e-18   \n",
       "std    1.000562e+00  1.000562e+00  1.000562e+00  1.000562e+00  1.000562e+00   \n",
       "min   -1.566107e+00 -2.224156e+00 -4.745452e-01 -4.736736e-01 -6.484217e-01   \n",
       "25%   -3.693648e-01 -5.657365e-01 -4.745452e-01 -4.736736e-01 -4.891482e-01   \n",
       "50%    8.273772e-01 -1.046374e-01 -4.745452e-01 -4.736736e-01 -3.573909e-01   \n",
       "75%    8.273772e-01  4.333115e-01  4.327934e-01 -4.736736e-01 -2.424635e-02   \n",
       "max    8.273772e-01  3.891554e+00  6.784163e+00  6.974147e+00  9.667167e+00   \n",
       "\n",
       "            Cabin         Sex      Ticket    Embarked  \n",
       "count  891.000000  891.000000  891.000000  891.000000  \n",
       "mean     6.716049    0.647587  338.528620    1.538721  \n",
       "std      2.460739    0.477990  200.850657    0.794231  \n",
       "min      0.000000    0.000000    0.000000    0.000000  \n",
       "25%      8.000000    0.000000  158.500000    1.000000  \n",
       "50%      8.000000    1.000000  337.000000    2.000000  \n",
       "75%      8.000000    1.000000  519.500000    2.000000  \n",
       "max      8.000000    1.000000  680.000000    3.000000  "
      ]
     },
     "execution_count": 39,
     "metadata": {},
     "output_type": "execute_result"
    }
   ],
   "source": [
    "transformed_df.describe()"
   ]
  },
  {
   "cell_type": "code",
   "execution_count": 66,
   "metadata": {},
   "outputs": [
    {
     "data": {
      "image/png": "[encoded data removed]",
      "text/plain": [
       "<Figure size 1440x1080 with 12 Axes>"
      ]
     },
     "metadata": {
      "needs_background": "light"
     },
     "output_type": "display_data"
    }
   ],
   "source": [
    "import matplotlib.pyplot as plt\n",
    "\n",
    "transformed_df.hist(bins=50, figsize=(20, 15))\n",
    "plt.show()"
   ]
  },
  {
   "cell_type": "code",
   "execution_count": 44,
   "metadata": {
    "nbpresent": {
     "id": "22047fb7-5788-4a1b-9ff2-c1f334ea8c5d"
    }
   },
   "outputs": [
    {
     "data": {
      "text/html": [
       "<div>\n",
       "<style scoped>\n",
       "    .dataframe tbody tr th:only-of-type {\n",
       "        vertical-align: middle;\n",
       "    }\n",
       "\n",
       "    .dataframe tbody tr th {\n",
       "        vertical-align: top;\n",
       "    }\n",
       "\n",
       "    .dataframe thead th {\n",
       "        text-align: right;\n",
       "    }\n",
       "</style>\n",
       "<table border=\"1\" class=\"dataframe\">\n",
       "  <thead>\n",
       "    <tr style=\"text-align: right;\">\n",
       "      <th></th>\n",
       "      <th>Pclass</th>\n",
       "      <th>Age</th>\n",
       "      <th>SibSp</th>\n",
       "      <th>Parch</th>\n",
       "      <th>Fare</th>\n",
       "      <th>Cabin</th>\n",
       "      <th>Sex</th>\n",
       "      <th>Ticket</th>\n",
       "      <th>Embarked</th>\n",
       "      <th>Survived</th>\n",
       "    </tr>\n",
       "  </thead>\n",
       "  <tbody>\n",
       "    <tr>\n",
       "      <th>Pclass</th>\n",
       "      <td>1.000000</td>\n",
       "      <td>-0.339898</td>\n",
       "      <td>0.083081</td>\n",
       "      <td>0.018443</td>\n",
       "      <td>-0.549500</td>\n",
       "      <td>0.746616</td>\n",
       "      <td>0.131900</td>\n",
       "      <td>0.319869</td>\n",
       "      <td>0.157112</td>\n",
       "      <td>-0.338481</td>\n",
       "    </tr>\n",
       "    <tr>\n",
       "      <th>Age</th>\n",
       "      <td>-0.339898</td>\n",
       "      <td>1.000000</td>\n",
       "      <td>-0.233296</td>\n",
       "      <td>-0.172482</td>\n",
       "      <td>0.096688</td>\n",
       "      <td>-0.255783</td>\n",
       "      <td>0.081163</td>\n",
       "      <td>-0.070382</td>\n",
       "      <td>-0.014205</td>\n",
       "      <td>-0.064910</td>\n",
       "    </tr>\n",
       "    <tr>\n",
       "      <th>SibSp</th>\n",
       "      <td>0.083081</td>\n",
       "      <td>-0.233296</td>\n",
       "      <td>1.000000</td>\n",
       "      <td>0.414838</td>\n",
       "      <td>0.159651</td>\n",
       "      <td>0.041540</td>\n",
       "      <td>-0.114631</td>\n",
       "      <td>0.079461</td>\n",
       "      <td>0.066654</td>\n",
       "      <td>-0.035322</td>\n",
       "    </tr>\n",
       "    <tr>\n",
       "      <th>Parch</th>\n",
       "      <td>0.018443</td>\n",
       "      <td>-0.172482</td>\n",
       "      <td>0.414838</td>\n",
       "      <td>1.000000</td>\n",
       "      <td>0.216225</td>\n",
       "      <td>-0.032548</td>\n",
       "      <td>-0.245489</td>\n",
       "      <td>0.020003</td>\n",
       "      <td>0.038322</td>\n",
       "      <td>0.081629</td>\n",
       "    </tr>\n",
       "    <tr>\n",
       "      <th>Fare</th>\n",
       "      <td>-0.549500</td>\n",
       "      <td>0.096688</td>\n",
       "      <td>0.159651</td>\n",
       "      <td>0.216225</td>\n",
       "      <td>1.000000</td>\n",
       "      <td>-0.523013</td>\n",
       "      <td>-0.182333</td>\n",
       "      <td>-0.013885</td>\n",
       "      <td>-0.221226</td>\n",
       "      <td>0.257307</td>\n",
       "    </tr>\n",
       "    <tr>\n",
       "      <th>Cabin</th>\n",
       "      <td>0.746616</td>\n",
       "      <td>-0.255783</td>\n",
       "      <td>0.041540</td>\n",
       "      <td>-0.032548</td>\n",
       "      <td>-0.523013</td>\n",
       "      <td>1.000000</td>\n",
       "      <td>0.123076</td>\n",
       "      <td>0.256307</td>\n",
       "      <td>0.187015</td>\n",
       "      <td>-0.301116</td>\n",
       "    </tr>\n",
       "    <tr>\n",
       "      <th>Sex</th>\n",
       "      <td>0.131900</td>\n",
       "      <td>0.081163</td>\n",
       "      <td>-0.114631</td>\n",
       "      <td>-0.245489</td>\n",
       "      <td>-0.182333</td>\n",
       "      <td>0.123076</td>\n",
       "      <td>1.000000</td>\n",
       "      <td>0.059372</td>\n",
       "      <td>0.104057</td>\n",
       "      <td>-0.543351</td>\n",
       "    </tr>\n",
       "    <tr>\n",
       "      <th>Ticket</th>\n",
       "      <td>0.319869</td>\n",
       "      <td>-0.070382</td>\n",
       "      <td>0.079461</td>\n",
       "      <td>0.020003</td>\n",
       "      <td>-0.013885</td>\n",
       "      <td>0.256307</td>\n",
       "      <td>0.059372</td>\n",
       "      <td>1.000000</td>\n",
       "      <td>-0.006041</td>\n",
       "      <td>-0.164549</td>\n",
       "    </tr>\n",
       "    <tr>\n",
       "      <th>Embarked</th>\n",
       "      <td>0.157112</td>\n",
       "      <td>-0.014205</td>\n",
       "      <td>0.066654</td>\n",
       "      <td>0.038322</td>\n",
       "      <td>-0.221226</td>\n",
       "      <td>0.187015</td>\n",
       "      <td>0.104057</td>\n",
       "      <td>-0.006041</td>\n",
       "      <td>1.000000</td>\n",
       "      <td>-0.163517</td>\n",
       "    </tr>\n",
       "    <tr>\n",
       "      <th>Survived</th>\n",
       "      <td>-0.338481</td>\n",
       "      <td>-0.064910</td>\n",
       "      <td>-0.035322</td>\n",
       "      <td>0.081629</td>\n",
       "      <td>0.257307</td>\n",
       "      <td>-0.301116</td>\n",
       "      <td>-0.543351</td>\n",
       "      <td>-0.164549</td>\n",
       "      <td>-0.163517</td>\n",
       "      <td>1.000000</td>\n",
       "    </tr>\n",
       "  </tbody>\n",
       "</table>\n",
       "</div>"
      ],
      "text/plain": [
       "            Pclass       Age     SibSp     Parch      Fare     Cabin  \\\n",
       "Pclass    1.000000 -0.339898  0.083081  0.018443 -0.549500  0.746616   \n",
       "Age      -0.339898  1.000000 -0.233296 -0.172482  0.096688 -0.255783   \n",
       "SibSp     0.083081 -0.233296  1.000000  0.414838  0.159651  0.041540   \n",
       "Parch     0.018443 -0.172482  0.414838  1.000000  0.216225 -0.032548   \n",
       "Fare     -0.549500  0.096688  0.159651  0.216225  1.000000 -0.523013   \n",
       "Cabin     0.746616 -0.255783  0.041540 -0.032548 -0.523013  1.000000   \n",
       "Sex       0.131900  0.081163 -0.114631 -0.245489 -0.182333  0.123076   \n",
       "Ticket    0.319869 -0.070382  0.079461  0.020003 -0.013885  0.256307   \n",
       "Embarked  0.157112 -0.014205  0.066654  0.038322 -0.221226  0.187015   \n",
       "Survived -0.338481 -0.064910 -0.035322  0.081629  0.257307 -0.301116   \n",
       "\n",
       "               Sex    Ticket  Embarked  Survived  \n",
       "Pclass    0.131900  0.319869  0.157112 -0.338481  \n",
       "Age       0.081163 -0.070382 -0.014205 -0.064910  \n",
       "SibSp    -0.114631  0.079461  0.066654 -0.035322  \n",
       "Parch    -0.245489  0.020003  0.038322  0.081629  \n",
       "Fare     -0.182333 -0.013885 -0.221226  0.257307  \n",
       "Cabin     0.123076  0.256307  0.187015 -0.301116  \n",
       "Sex       1.000000  0.059372  0.104057 -0.543351  \n",
       "Ticket    0.059372  1.000000 -0.006041 -0.164549  \n",
       "Embarked  0.104057 -0.006041  1.000000 -0.163517  \n",
       "Survived -0.543351 -0.164549 -0.163517  1.000000  "
      ]
     },
     "execution_count": 44,
     "metadata": {},
     "output_type": "execute_result"
    }
   ],
   "source": [
    "transformed_df[\"Survived\"] = train.Survived\n",
    "corr_matrix = transformed_df.corr()\n",
    "corr_matrix"
   ]
  },
  {
   "cell_type": "markdown",
   "metadata": {},
   "source": [
    "From the above correlation matrix, from the Surviving standpoint, we can observe stron correlations (either possitive or negative) with Pclass, Fare, Cabin, Sex, Ticket and Embarked, let's take a closer look."
   ]
  },
  {
   "cell_type": "code",
   "execution_count": 45,
   "metadata": {},
   "outputs": [
    {
     "data": {
      "text/plain": [
       "Pclass     -0.338481\n",
       "Age        -0.064910\n",
       "SibSp      -0.035322\n",
       "Parch       0.081629\n",
       "Fare        0.257307\n",
       "Cabin      -0.301116\n",
       "Sex        -0.543351\n",
       "Ticket     -0.164549\n",
       "Embarked   -0.163517\n",
       "Survived    1.000000\n",
       "Name: Survived, dtype: float64"
      ]
     },
     "execution_count": 45,
     "metadata": {},
     "output_type": "execute_result"
    }
   ],
   "source": [
    "corr_matrix.Survived"
   ]
  },
  {
   "cell_type": "markdown",
   "metadata": {},
   "source": [
    "So, let's build a model with the mentioned attributes, since this is a binary classification problem, we will try with:\n",
    "\n",
    "* Logistic Regression\n",
    "* SVM\n",
    "* SGDClassifier\n",
    "\n",
    "Also, we will try with these though not exclusive to binary classification problems:\n",
    "* RandomForests\n",
    "* NaiveBayes"
   ]
  },
  {
   "cell_type": "code",
   "execution_count": 54,
   "metadata": {},
   "outputs": [],
   "source": [
    "%%capture\n",
    "from sklearn.linear_model import SGDClassifier, LogisticRegression\n",
    "from sklearn.ensemble import RandomForestClassifier\n",
    "from sklearn.svm import SVC\n",
    "from sklearn.naive_bayes import GaussianNB\n",
    "\n",
    "lr_clf = LogisticRegression()\n",
    "sgd_clf = SGDClassifier()\n",
    "rf_clf = RandomForestClassifier()\n",
    "svc_clf = SVC()\n",
    "nb_clf = GaussianNB()\n",
    "\n",
    "lr_clf.fit(train_transformed, train.Survived.values)\n",
    "sgd_clf.fit(train_transformed, train.Survived.values)\n",
    "rf_clf.fit(train_transformed, train.Survived.values)\n",
    "svc_clf.fit(train_transformed, train.Survived.values)\n",
    "nb_clf.fit(train_transformed, train.Survived.values)"
   ]
  },
  {
   "cell_type": "markdown",
   "metadata": {},
   "source": [
    "Now let's evaluate the results to find the bests model candidate and perform a grid search for the best hyperparameters."
   ]
  },
  {
   "cell_type": "code",
   "execution_count": 63,
   "metadata": {},
   "outputs": [],
   "source": [
    "from sklearn.metrics import precision_score, recall_score, f1_score\n",
    "\n",
    "def model_scoring(y, y_pred, label=None, avg=\"micro\"):\n",
    "    if label:\n",
    "        print(\"Scores for model: \", label)\n",
    "    ps = precision_score(y, y_pred, average=avg)\n",
    "    rs = recall_score(y, y_pred, average=avg)\n",
    "    f1 = f1_score(y, y_pred, average=avg)\n",
    "    print(\"Precision: {}, Recall: {}, F1-Score: {}\".format(ps, rs, f1))"
   ]
  },
  {
   "cell_type": "code",
   "execution_count": 64,
   "metadata": {},
   "outputs": [
    {
     "name": "stdout",
     "output_type": "stream",
     "text": [
      "Scores for model:  Logistic Regression\n",
      "Precision: 0.8002244668911336, Recall: 0.8002244668911336, F1-Score: 0.8002244668911336\n",
      "Scores for model:  SGD\n",
      "Precision: 0.6206509539842873, Recall: 0.6206509539842873, F1-Score: 0.6206509539842873\n",
      "Scores for model:  Random Forest\n",
      "Precision: 0.978675645342312, Recall: 0.978675645342312, F1-Score: 0.978675645342312\n",
      "Scores for model:  Support Vector Classifier\n",
      "Precision: 0.8855218855218855, Recall: 0.8855218855218855, F1-Score: 0.8855218855218855\n",
      "Scores for model:  Naive Bayes Classifier\n",
      "Precision: 0.7777777777777778, Recall: 0.7777777777777778, F1-Score: 0.7777777777777778\n"
     ]
    },
    {
     "data": {
      "text/plain": [
       "[None, None, None, None, None]"
      ]
     },
     "execution_count": 64,
     "metadata": {},
     "output_type": "execute_result"
    }
   ],
   "source": [
    "lr = lr_clf.predict(train_transformed)\n",
    "sgd = sgd_clf.predict(train_transformed)\n",
    "rf = rf_clf.predict(train_transformed)\n",
    "svc = svc_clf.predict(train_transformed)\n",
    "nb = nb_clf.predict(train_transformed)\n",
    "\n",
    "results = {\n",
    "    \"Logistic Regression\" : lr,\n",
    "    \"SGD\": sgd,\n",
    "    \"Random Forest\": rf,\n",
    "    \"Support Vector Classifier\": svc,\n",
    "    \"Naive Bayes Classifier\": nb\n",
    "}\n",
    "\n",
    "[model_scoring(train.Survived.values, pred[1], pred[0]) for pred in results.items()]"
   ]
  },
  {
   "cell_type": "markdown",
   "metadata": {},
   "source": [
    "Look at this!, the Random Forest Classifier seems to be the most promising, followed closely by the SVM Classifier then the Logistic Regression. The rest are not bad, but compared to the mentioned, are certainly behind.\n",
    "\n",
    "Now, let's find the best model hypterparameters with grid search"
   ]
  },
  {
   "cell_type": "code",
   "execution_count": 85,
   "metadata": {},
   "outputs": [
    {
     "name": "stdout",
     "output_type": "stream",
     "text": [
      "Fitting 5 folds for each of 972 candidates, totalling 4860 fits\n"
     ]
    },
    {
     "name": "stderr",
     "output_type": "stream",
     "text": [
      "[Parallel(n_jobs=1)]: Using backend SequentialBackend with 1 concurrent workers.\n",
      "[Parallel(n_jobs=1)]: Done 4860 out of 4860 | elapsed:  9.4min finished\n",
      "/Users/ferro/anaconda3/envs/Deeplearning/lib/python3.6/site-packages/sklearn/model_selection/_search.py:841: DeprecationWarning: The default of the `iid` parameter will change from True to False in version 0.22 and will be removed in 0.24. This will change numeric results when test-set sizes are unequal.\n",
      "  DeprecationWarning)\n"
     ]
    },
    {
     "name": "stdout",
     "output_type": "stream",
     "text": [
      "CPU times: user 8min 42s, sys: 5.69 s, total: 8min 48s\n",
      "Wall time: 9min 22s\n"
     ]
    }
   ],
   "source": [
    "%%time\n",
    "from sklearn.model_selection import GridSearchCV\n",
    "\n",
    "param_grid = [\n",
    "    {'n_estimators': range(20, 100), 'criterion': ['gini', 'entropy'], 'max_features': [2, 4, 6, 8, 9, 'auto']},\n",
    "    {'bootstrap': [False], 'criterion': ['gini', 'entropy'], 'n_estimators': [3, 10], 'max_features': [3, 6, 9]}\n",
    "]\n",
    "\n",
    "rf_clf = RandomForestClassifier()\n",
    "grid_search = GridSearchCV(rf_clf, param_grid, cv=5, scoring=\"balanced_accuracy\", n_jobs=4 verbose = 1)\n",
    "grid_search.fit(train_transformed, train.Survived.values)"
   ]
  },
  {
   "cell_type": "code",
   "execution_count": 86,
   "metadata": {},
   "outputs": [
    {
     "data": {
      "text/plain": [
       "RandomForestClassifier(bootstrap=True, class_weight=None, criterion='gini',\n",
       "            max_depth=None, max_features=6, max_leaf_nodes=None,\n",
       "            min_impurity_decrease=0.0, min_impurity_split=None,\n",
       "            min_samples_leaf=1, min_samples_split=2,\n",
       "            min_weight_fraction_leaf=0.0, n_estimators=79, n_jobs=None,\n",
       "            oob_score=False, random_state=None, verbose=0,\n",
       "            warm_start=False)"
      ]
     },
     "execution_count": 86,
     "metadata": {},
     "output_type": "execute_result"
    }
   ],
   "source": [
    "grid_search.best_estimator_"
   ]
  },
  {
   "cell_type": "code",
   "execution_count": 87,
   "metadata": {},
   "outputs": [
    {
     "name": "stdout",
     "output_type": "stream",
     "text": [
      "Precision: 0.9977553310886644, Recall: 0.9977553310886644, F1-Score: 0.9977553310886644\n"
     ]
    }
   ],
   "source": [
    "y_pred = grid_search.best_estimator_.predict(train_transformed)\n",
    "model_scoring(train.Survived.values, y_pred)"
   ]
  },
  {
   "cell_type": "code",
   "execution_count": 97,
   "metadata": {},
   "outputs": [],
   "source": [
    "test_transformed = full_pipeline.fit_transform(test)\n",
    "y_pred = grid_search.best_estimator_.predict(test_transformed)"
   ]
  },
  {
   "cell_type": "code",
   "execution_count": 108,
   "metadata": {},
   "outputs": [],
   "source": [
    "results = test.copy()\n",
    "results[\"Survived\"] = y_pred\n",
    "results = results[[\"PassengerId\", \"Survived\"]]"
   ]
  },
  {
   "cell_type": "code",
   "execution_count": 111,
   "metadata": {},
   "outputs": [],
   "source": [
    "results.to_csv('./submission.csv', index=False)"
   ]
  },
  {
   "cell_type": "markdown",
   "metadata": {
    "nbpresent": {
     "id": "47003c79-f400-4646-a28a-a322b1649362"
    }
   },
   "source": [
    "# Extra stuff\n",
    "\n",
    "This is just experiments to understand how to manipulate the data to create the transformation pipelines."
   ]
  },
  {
   "cell_type": "code",
   "execution_count": null,
   "metadata": {
    "nbpresent": {
     "id": "65700665-fbe8-4635-ab1c-7d89e3d9f515"
    }
   },
   "outputs": [],
   "source": [
    "raw_features = train[cat_attribs].fillna('X').values\n",
    "raw_features[:,0]"
   ]
  },
  {
   "cell_type": "code",
   "execution_count": null,
   "metadata": {
    "nbpresent": {
     "id": "ef98f419-895a-4f41-87b2-d303ef59a3dc"
    }
   },
   "outputs": [],
   "source": [
    "sex = LabelEncoder().fit_transform(train.Sex.values)\n",
    "embarked = LabelEncoder().fit_transform(train.Embarked.fillna('X').values)\n",
    "features = np.c_[sex, embarked]\n",
    "print(features[0:10])"
   ]
  },
  {
   "cell_type": "code",
   "execution_count": null,
   "metadata": {
    "nbpresent": {
     "id": "cb488c1a-567a-4cf5-b9ae-db0025b8f816"
    }
   },
   "outputs": [],
   "source": [
    "l = [sex, embarked]\n",
    "np.c_[l].T.shape"
   ]
  },
  {
   "cell_type": "code",
   "execution_count": null,
   "metadata": {
    "nbpresent": {
     "id": "61b4f321-7c0b-4fa0-bd84-66fb5427db26"
    }
   },
   "outputs": [],
   "source": [
    "train[cat_attribs].fillna('X').apply(LabelEncoder().fit_transform).head(10)"
   ]
  },
  {
   "cell_type": "code",
   "execution_count": null,
   "metadata": {
    "nbpresent": {
     "id": "1fed2510-08b5-491b-92a0-a03d87f8ce83"
    }
   },
   "outputs": [],
   "source": [
    "v = train[\"Cabin\"].fillna(\"XX\").values\n",
    "f = np.vectorize(lambda x: x[0])\n",
    "f(v).shape"
   ]
  }
 ],
 "metadata": {
  "kernelspec": {
   "display_name": "Python 3",
   "language": "python",
   "name": "python3"
  },
  "language_info": {
   "codemirror_mode": {
    "name": "ipython",
    "version": 3
   },
   "file_extension": ".py",
   "mimetype": "text/x-python",
   "name": "python",
   "nbconvert_exporter": "python",
   "pygments_lexer": "ipython3",
   "version": "3.6.7"
  }
 },
 "nbformat": 4,
 "nbformat_minor": 2
}
