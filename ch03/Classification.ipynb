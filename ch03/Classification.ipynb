{
 "cells": [
  {
   "cell_type": "markdown",
   "metadata": {},
   "source": [
    "# Chapter 3, Classification\n",
    "We will work with MNIST dataset for classifying handwritten digits with the corresponding actual value. Scikit provides handy functions to get this dataset.\n",
    "\n",
    "#### Warning!\n",
    "The book uses a different method to download MNIST dataset but it seems it is not working, hence I'm using the official sickit's method to download mnist."
   ]
  },
  {
   "cell_type": "code",
   "execution_count": 3,
   "metadata": {},
   "outputs": [],
   "source": [
    "from sklearn.datasets import fetch_openml\n",
    "\n",
    "# Load data from https://www.openml.org/d/554\n",
    "X, y = fetch_openml('mnist_784', version=1, return_X_y=True)"
   ]
  },
  {
   "cell_type": "code",
   "execution_count": 77,
   "metadata": {},
   "outputs": [],
   "source": [
    "import matplotlib.pyplot as plt\n",
    "import numpy as np\n",
    "\n",
    "def factors_of(n):\n",
    "    factors = []\n",
    "    for i in range(1, n + 1):\n",
    "        if n % i == 0:\n",
    "            factors.append(i)\n",
    "    return sorted(factors, reverse=True)\n",
    "\n",
    "def print_samples(X, y, n = 4, raw=False):\n",
    "    \"\"\"Print n random samples\"\"\"\n",
    "    if raw:\n",
    "        rand_indx = np.random.randint(0, len(X), n)\n",
    "        samples = zip(X[rand_indx], y[rand_indx])\n",
    "        print(list(samples))\n",
    "    else:\n",
    "        # factor n and get the two grates values\n",
    "        factors = factors_of(n)\n",
    "        subplot_shape = None\n",
    "        if len(factors) <= 2:\n",
    "            subplot_shape = (factors[0], factors[0])\n",
    "        else:\n",
    "            # omit the first\n",
    "            subplot_shape = (factors[1], factors[2] if factors[2] != 1 else factors[1])\n",
    "        \n",
    "        n_samples = min(n, subplot_shape[0])\n",
    "        rand_indx = np.random.randint(0, len(X), n_samples)\n",
    "        samples = zip(X[rand_indx], y[rand_indx])\n",
    "        idx = 1\n",
    "        for features, label in samples:\n",
    "            # X is a flattened array, to print the image we need\n",
    "            # to reshape it into a 28 x 28 figure\n",
    "            plt.subplot(*subplot_shape, idx)\n",
    "            plt.imshow(features.reshape(28,28), cmap=plt.cm.gray)\n",
    "            plt.title(\"Label: {}\".format(label))\n",
    "            idx+=1\n",
    "        plt.show()"
   ]
  },
  {
   "cell_type": "code",
   "execution_count": 82,
   "metadata": {},
   "outputs": [
    {
     "data": {
      "image/png": "[encoded data removed]",
      "text/plain": [
       "<Figure size 432x288 with 2 Axes>"
      ]
     },
     "metadata": {
      "needs_background": "light"
     },
     "output_type": "display_data"
    }
   ],
   "source": [
    "print_samples(X, y, 4)"
   ]
  },
  {
   "cell_type": "code",
   "execution_count": null,
   "metadata": {},
   "outputs": [],
   "source": []
  }
 ],
 "metadata": {
  "kernelspec": {
   "display_name": "Python 3",
   "language": "python",
   "name": "python3"
  },
  "language_info": {
   "codemirror_mode": {
    "name": "ipython",
    "version": 3
   },
   "file_extension": ".py",
   "mimetype": "text/x-python",
   "name": "python",
   "nbconvert_exporter": "python",
   "pygments_lexer": "ipython3",
   "version": "3.6.7"
  }
 },
 "nbformat": 4,
 "nbformat_minor": 2
}
